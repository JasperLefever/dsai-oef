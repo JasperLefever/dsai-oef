{
 "cells": [
  {
   "cell_type": "markdown",
   "metadata": {},
   "source": [
    "# Module 5. Labs two-sample t-test"
   ]
  },
  {
   "cell_type": "code",
   "execution_count": null,
   "metadata": {},
   "outputs": [],
   "source": [
    "# Package imports\n",
    "import numpy as np                                  # \"Scientific computing\"\n",
    "import scipy.stats as stats                         # Statistical tests\n",
    "\n",
    "import pandas as pd                                 # Dataframe\n",
    "import matplotlib.pyplot as plt                     # Basic visualisation\n",
    "from statsmodels.graphics.mosaicplot import mosaic  # Mosaic plot\n",
    "import seaborn as sns                               # Advanced dataviz"
   ]
  },
  {
   "cell_type": "markdown",
   "metadata": {},
   "source": [
    "## Android Persistence libraries performance comparison\n",
    "\n",
    "We analyzed the results of performance measurements for Android persistence libraries (Akin, 2016). Experiments were performed for different combinations of *DataSize* (Small, Medium, Large) and *PersistenceType* (GreenDAO, Realm, SharedPreferences, SQLite). For each data size, we were able to determine which persistence type yielded the best results.\n",
    "\n",
    "Now we will verify if the best persistence type at first glance is also *significantly* better than the competition.\n",
    "\n",
    "Specifically: Using a two-sample test for each data size, verify that the mean of the best persistence type is significantly lower than the mean of the second best and the worst scoring type.\n",
    "\n",
    "Can we maintain the conclusion that for a given data size, one persistence type is best, i.e. is significantly better than any other persistence type?"
   ]
  },
  {
   "cell_type": "code",
   "execution_count": null,
   "metadata": {},
   "outputs": [],
   "source": []
  },
  {
   "cell_type": "markdown",
   "metadata": {},
   "source": [
    "### Answers\n",
    "\n",
    "The table below provides an overview of the best and second best persistence type for each data size (based on the sample mean).\n",
    "\n",
    "| Data Size | Best  | 2nd Best          | p-value   |\n",
    "| :-------- | :---- | :---------------- | :-------- |\n",
    "| Small     | Realm | SharedPreferences | 0.1699    |\n",
    "| Medium    | Realm | GreenDAO          | 0.0002506 |\n",
    "| Large     | Realm | SQLite            | 0.0017    |\n",
    "\n",
    "The conclusion of Akin (2016), which states that Realm is the most efficient persistence type, still holds, but for the small data sets the difference is not significant.\n",
    "\n",
    "Note that we have not explicitly selected a specific significance level in advance. However, for $\\alpha$ = 0.1, 0.05 or even 0.01, the same conclusion can be drawn."
   ]
  },
  {
   "cell_type": "markdown",
   "metadata": {},
   "source": [
    "##  Comparing test results between groups\n",
    "\n",
    "A large number of students participated in a test that was organized in several successive sessions. Because creating a separate test for each session was practically unfeasible, the same questions were used in each session. Consequently, there is a danger that students could pass on information about the test to the groups that still had to come after. Later groups then have an advantage over the first. However, this also evident from the test scores?\n",
    "\n",
    "The file `test-results.csv` contains all results of the test. The score is a floating point number with maximum 40. If the score field is empty, this indicates a student that was absent. Each session is identified by a letter, in the order of the consecutive sessions.\n",
    "\n",
    "- Day 1: sessions A, B\n",
    "- Day 2: sessions C, D, E\n",
    "- Day 3: sessions F, G, H\n",
    "\n",
    "Sessions A and B were conducted on a different campus, so it could be assumed that there is little to no communication with students from other sessions.\n",
    "\n",
    "If information was passed on successfully, we expect the scores of later groups to be significantly better than the first.\n",
    "\n",
    "**Note** that the reverse reasoning does not necessarily hold: if it turns out that the result of later sessions is indeed significantly better, this does not necessarily mean that the (only) cause is passing on of information. There may also be other causes (e.g. “weaker” class groups happen to be scheduled earlier).\n",
    "\n",
    "1. Explore the data. Calculate the appropriate measures for central tendency and dispersion for the full dataset and for each session individually.\n",
    "2. Plot a bar graph of the average score per session with error bars denoting one standard deviation.\n",
    "3. Make a box plot of the scores divided per group. Compare the sessions listed below. Do you think there is a significant difference between the results? Can we suspect that information has been passed on?\n",
    "    - A and B\n",
    "    - C, D and E\n",
    "    - F, G and H\n",
    "    - C and H\n",
    "    - A and H\n",
    "4. Use an appropriate statistical test to determine whether the differences between the groups listed above are also *significant*. Can we conclude that the later groups score better or not?"
   ]
  },
  {
   "cell_type": "code",
   "execution_count": null,
   "metadata": {},
   "outputs": [],
   "source": []
  },
  {
   "cell_type": "markdown",
   "metadata": {},
   "source": [
    "### Answers\n",
    "\n",
    "The average score in each session was:\n",
    "\n",
    "| Session | Average score |\n",
    "| :-----: | :------------ |\n",
    "|    A    | 13.1          |\n",
    "|    B    | 17.2          |\n",
    "|    C    | 18.8          |\n",
    "|    D    | 22.5          |\n",
    "|    E    | 18.9          |\n",
    "|    F    | 17.8          |\n",
    "|    G    | 18.7          |\n",
    "|    H    | 20.9          |\n",
    "\n",
    "The table below shows the p-value of a one-sided t-test of two samples between the given sessions:\n",
    "\n",
    "| Alt. hypothesis                       | p-value   |\n",
    "| :------------------------------------ | :-------- |\n",
    "| $\\overline{x}_A - \\overline{x}_B < 0$ | 0.05356   |\n",
    "| $\\overline{x}_C - \\overline{x}_D < 0$ | 0.01343   |\n",
    "| $\\overline{x}_E - \\overline{x}_D < 0$ | 0.02356   |\n",
    "| $\\overline{x}_F - \\overline{x}_H < 0$ | 0.05767   |\n",
    "| $\\overline{x}_G - \\overline{x}_H < 0$ | 0.1156    |\n",
    "| $\\overline{x}_C - \\overline{x}_H < 0$ | 0.1463    |\n",
    "| $\\overline{x}_A - \\overline{x}_H < 0$ | 0.0003289 |\n",
    "\n",
    "Remarks:\n",
    "\n",
    "- The difference between **session A and B**, although it seems quite large, is insignificant for $\\alpha = 0.05$\n",
    "- **Sessions C, D and E**:\n",
    "  - Session D had the highest score. Sessions C and E had similar results, at least the average score was similar.\n",
    "  - Session D has a significantly higher score than either sessions C and E. However, session E came _after_ D, so the cause is definitely not the passing of information.\n",
    "- The differences between **sessions F, G and H** insignificant\n",
    "- **Sessions C and H** are respectively the first and the last session on the same campus. So, if there is an opportunity to pass on information about the test, there's definitely enough time between these two sessions. However, the difference is not significant!\n",
    "- The difference between **sessions A and H** are significant, but since they took place on different campuses, it is questionable that this difference is caused by passing on information."
   ]
  }
 ],
 "metadata": {
  "language_info": {
   "name": "python"
  },
  "orig_nbformat": 4
 },
 "nbformat": 4,
 "nbformat_minor": 2
}
