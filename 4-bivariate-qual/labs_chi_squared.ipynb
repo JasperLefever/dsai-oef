{
  "cells": [
    {
      "cell_type": "markdown",
      "metadata": {
        "id": "xDBTRYzLSeM_"
      },
      "source": [
        "# Module 4: Labs Bivariate analysis - 2 qualitative variables\n"
      ]
    },
    {
      "cell_type": "code",
      "execution_count": null,
      "metadata": {
        "id": "j8I-eUfMSeNF"
      },
      "outputs": [],
      "source": [
        "# Importing the necessary packages\n",
        "import numpy as np                                  # \"Scientific computing\"\n",
        "import scipy.stats as stats                         # Statistical tests\n",
        "\n",
        "import pandas as pd                                 # Data Frame\n",
        "from pandas.api.types import CategoricalDtype\n",
        "\n",
        "import matplotlib.pyplot as plt                     # Basic visualisation\n",
        "from statsmodels.graphics.mosaicplot import mosaic  # Mosaic diagram\n",
        "import seaborn as sns                               # Advanced data visualisation"
      ]
    },
    {
      "cell_type": "markdown",
      "source": [
        "## Labo 1 - Influence of background music on purchasing behaviour\n",
        "\n",
        "Market research shows that background music in a supermarket can influence the purchasing behaviour of customers. A study compared three methods: no music, French chansons and Italian hits. In each case, the number of bottles of French, Italian and other wines sold was counted (Ryan, et al., 1998).\n",
        "\n",
        "The research data can be found in the file data/MuziekWijn.csv.\n",
        "\n",
        "1. Set up the correct crosstab.\n",
        "2. Determine the marginal totals.\n",
        "3. Determine the expected results.\n",
        "4. Calculate the χ² test statistic.\n",
        "5. Calculate Cramér's V. What can you conclude from this?\n",
        "\n",
        "Visualize the data set:\n",
        "\n",
        "1. Plot a bar chart showing the percentages of types of wine sold when no music was playing.\n",
        "2. Plot a clustered bar chart of the dataset\n",
        "3. Plot a bar chart (stacked bar chart) of the dataset\n",
        "\n",
        "Results of the main calculations (rounded up to 3 decimal places):\n",
        "\n",
        "* χ² ≈ 18.279\n",
        "* Cramér's V ≈ 0.194"
      ],
      "metadata": {
        "id": "rBTpvl1A4pa3"
      }
    },
    {
      "cell_type": "code",
      "source": [
        ""
      ],
      "metadata": {
        "id": "3kzHcx9qDWKp"
      },
      "execution_count": null,
      "outputs": []
    },
    {
      "cell_type": "markdown",
      "source": [
        "Read the dataset"
      ],
      "metadata": {
        "id": "TwUXo3yUSi9F"
      }
    },
    {
      "cell_type": "code",
      "source": [
        ""
      ],
      "metadata": {
        "id": "eONuYlYg_mRY"
      },
      "execution_count": null,
      "outputs": []
    },
    {
      "cell_type": "markdown",
      "source": [
        "Give the names of both columns. What is wrong?"
      ],
      "metadata": {
        "id": "KB_9tGkhSoVw"
      }
    },
    {
      "cell_type": "code",
      "source": [
        ""
      ],
      "metadata": {
        "id": "akNX8Ep5zJz1"
      },
      "execution_count": null,
      "outputs": []
    },
    {
      "cell_type": "markdown",
      "source": [
        "You can change the name of a column 'ab' to the column 'abc' of the dataframe df, using the following command\n",
        "\n",
        "`df = df.rename(columns={'ab': 'abc'})`\n",
        "\n",
        "Use this command to change the column name.  \n",
        "Check afterwards if the result is correct."
      ],
      "metadata": {
        "id": "OMvmb9OmStI3"
      }
    },
    {
      "cell_type": "code",
      "source": [
        ""
      ],
      "metadata": {
        "id": "0CbcTl0eFkp5"
      },
      "execution_count": null,
      "outputs": []
    },
    {
      "cell_type": "markdown",
      "source": [
        "1. Set up the correct crosstab."
      ],
      "metadata": {
        "id": "Pg9jEJNcTUwA"
      }
    },
    {
      "cell_type": "code",
      "source": [
        ""
      ],
      "metadata": {
        "id": "0GLZMmuj65_n"
      },
      "execution_count": null,
      "outputs": []
    },
    {
      "cell_type": "markdown",
      "source": [
        "2. Determine the marginal totals."
      ],
      "metadata": {
        "id": "zfpOuLfQTYau"
      }
    },
    {
      "cell_type": "code",
      "source": [
        ""
      ],
      "metadata": {
        "id": "hV-aqduX7sPr"
      },
      "execution_count": null,
      "outputs": []
    },
    {
      "cell_type": "markdown",
      "source": [
        "3. Determine the expected results."
      ],
      "metadata": {
        "id": "-ki0QFC3Td39"
      }
    },
    {
      "cell_type": "code",
      "source": [
        ""
      ],
      "metadata": {
        "id": "eD7W_TGr8TZq"
      },
      "execution_count": null,
      "outputs": []
    },
    {
      "cell_type": "markdown",
      "source": [
        "4. Calculate the χ² test statistic."
      ],
      "metadata": {
        "id": "i7X4Oo8bThdh"
      }
    },
    {
      "cell_type": "code",
      "source": [
        ""
      ],
      "metadata": {
        "id": "mRjMVZ5g8cW6"
      },
      "execution_count": null,
      "outputs": []
    },
    {
      "cell_type": "code",
      "source": [
        ""
      ],
      "metadata": {
        "id": "Medrwp9fKTMD"
      },
      "execution_count": null,
      "outputs": []
    },
    {
      "cell_type": "code",
      "source": [
        ""
      ],
      "metadata": {
        "id": "drud8rMuKWrU"
      },
      "execution_count": null,
      "outputs": []
    },
    {
      "cell_type": "code",
      "source": [
        ""
      ],
      "metadata": {
        "id": "JBJ4ENc6KWth"
      },
      "execution_count": null,
      "outputs": []
    },
    {
      "cell_type": "markdown",
      "source": [
        "5. Calculate Cramér's V. What can you conclude from this?"
      ],
      "metadata": {
        "id": "uAI4zJqMTpA9"
      }
    },
    {
      "cell_type": "code",
      "source": [
        ""
      ],
      "metadata": {
        "id": "VRbMvzZpKfv6"
      },
      "execution_count": null,
      "outputs": []
    },
    {
      "cell_type": "markdown",
      "source": [
        "Plot a bar chart showing the percentages of types of wine sold when no music was playing.\n",
        "\n",
        "![image.png](data:image/png;base64,iVBORw0KGgoAAAANSUhEUgAAAbMAAAEjCAYAAAC4i+/EAAAgAElEQVR4nO3deXTV9Z3/8efdc7Pf7Dd7SAIkQUgUBAEVWVRUXDrWVlvHahmPM7XTaafH8Tjtzzldxs5M7cw4alu7aMfiQsVWQQVxQUVBdlnDmo3sIfu9yd1/f1DuNAUhNyXLxdfjnJ7S7/1+P3l/Scorn+/3sxhCoVAIERGRKGYc7wJERET+UgozERGJeubxLmA0HDt2jMbGRiwWy3iXIiIi55nH4+Giiy4iJSUlfOyCDLMXX3yR3/3udxQXF493KSIicp7t3LmTX/ziF1x11VXhYxdkmCUmJnLbbbfx4IMPjncpIiJynn3hC18gJiZmyDG9MxMRkainMBMRkainMBMRkainMBMRkainMBMRkainMBMRkainMBMRkainMBMRkainMBMRkainMBMRkah3QS5nFaljrT08tOL98S5D/oTZZOTJe5eQaLeOdykiEgXGJcwGBgbYuXMnK1aswOv1MnPmTK655hoKCwvD5/T39/Pee+/xwgsvkJCQgMlkorKykquuuopJkyad13o8Pj+Hm7vOa5vyl7GaTQSCwfEuQ0SixJiHWSgUor29nV/96ldMnz6d5ORkNm3aRGZmJmlpacTHxwPg9XppbGykq6uLBQsWkJSURE5ODomJiWNdsoiITHBjHmYej4f6+npqamr4/ve/T3p6Og0NDdTU1NDY2MiUKVPC5xqNRiZNmsSyZcvIyMgY61JFRCRKjPkAEJfLRVNTE7m5uaSmpmKxWCgvL8ftdtPS0jLk3GAwSH19PevWrePtt9+mvr4en8831iWLiMgEN+Y9M5/Ph8vlwuFwhI8lJCTg9/sZGBj4v8LMZlJTU7Farbz77ruYTCYuvfRSFi1adMZ3Zm1tbbS0tODxeDh+/Hj4caWIiFz4xjzMDAYDJpMJv98fPhYIBDAYDBiN/9dRjIuLY/HixSxbtgyLxcKGDRv47W9/i9VqPWOYbdu2jVdffZW2tjaam5tZsmTJmNyPiIiMvzEPM5vNRlJSEi0tLQT/OFqto6MDq9VKQkJC+DyTyURiYiIGgwGAyy+/nOeff56Ojo4ztnvddddx3XXXAfDEE0/Q19c3ynciIiITxZi/M0tMTKSoqIiamhrq6+sZGBjgww8/DB8/xe/309HRQSgUAk72vILB4JDHkyIiIjAOPTOj0UhOTg5f/epX+cd//EdCoRAFBQVUVVVx7NgxNmzYQEVFBVlZWfz6179m27Zt4d7ZlVdeyYIFC8a6ZBERmeDGZdJ0UlISn/vc56ioqCAYDJKenk5BQQFerxen00lycjKxsbEsW7aMOXPmnCzUbCY/P5/MzMzxKFlERCawcQkzs9mM0+nE6XSe9llaWlr4z+Xl5WNZloiIRCktNCwiIlFPYSYiIlFPYSYiIlFPYSYiIlFPYSYiIlFPYSYiIlFPYSYiIlFPYSYiIlFPYSYiIlFPYSYiIlFPYSYiIlFPYSYiIlFPYSYiIlFPYSYiIlFPYSYiIlFPYSYiIlFPYSYiIlFPYSYiIlFPYSYiIlFPYSYiIlFPYSYiIlFPYSYiIlFPYSYiIlFPYSYiIlFPYSYiIlFPYSYiIlFPYSYiIlFPYSYiIlFPYSYiIlFPYSYiIlHPHOkFoVCI/v5+7HY7JpMJl8uF2+3GbDYTHx+P1WodjTpFREQ+VcQ9M6/Xy7PPPktTUxN+v5+VK1dy991389BDD7Fnz57RqFFEROSsIg4zn8/HqlWrCAQC7N+/n5qaGhYuXMjUqVNZuXLlaNQoIiJyViN6Z+Z2uwmFQnzyySekpqZy+eWX43Q6cblc57s+ERGRc4o4zIxGI4WFhfzqV7/i5ZdfxuFwUFRUhMFgwGAwjEaNIiIiZxXxABCr1cry5cs5cuQIOTk5zJw5k7i4OPLz81mwYMGw2vB4PBw8eJA33ngDv99PWVkZl112GU6n84znV1dX8+qrrzJjxgwuu+wyEhMTIy1bREQuYBGHmdlsZuHChdjtdgYHB0lJSSEYDJKRkUF6evqw2jhx4gTPPvssZrMZu93O+vXriY2NJTk5GbvdPuRcr9fL66+/zosvvojBYGD69OkKMxERGSLix4yBQIBdu3axd+9eXn31VY4ePUooFKK1tZWDBw+e83qv10tDQwObNm3ivvvu45/+6Z9wOBwcOnSIlpaWIef6/X527txJU1MTqampxMfHR1quiIh8BkQcZh6PhyeffJL29nb2799PW1sbVquV2tpa1q5de87r+/v7aWhoID8/n8zMTGw2G1VVVeHjpwSDQTo7O1mxYgWLFy8mLy8Po/HTy+3o6KC6uprdu3fT0tJCMBiM9NZERCRKRfyYMRgMUl1dzUMPPURjYyMmkwmr1YrFYiEQCJzzeq/XS19fH+np6eEBI8nJyfh8Ptxud/g8t9vN9u3bGRwcpKqqijfffPOs7W7atInf//73tLa20tbWxtKlSyO9NRERiVIRhxmcfG/2pz0ft9uN2+0+b6MZQ6EQzc3NPPHEE/zkJz8hJSXlnNcsW7aMZcuWAfDEE0/Q19d3XmoREZGJb0SjGe+8804effRRNm3axMDAAK+88goGg4EvfOEL57zeZrORlJRES0sLoVAIgM7OTiwWS/idWCAQoKuri507d3LHHXdgNpupq6vDbrfT1tbGPffcQ05OTqSli4jIBSriMLNYLNx0000UFxdTVFSE3+8nKyuLsrIyysvLz3l9fHw8BQUF1NbW0tTURHZ2Nlu2bKGwsJCCggIATCYT5eXlvPLKK+H3ZI8++iiFhYVcf/31pKWlRVq2iIhcwCIOM4PBQGpqKhdffDFpaWn09/cTGxuLw+EY1vUWi4Xc3FxuuOEGHnnkEczmkyVUVFTQ2trK3r17KSkpobS0lJkzZ4avy8zMJD8/H6fTic1mi7RsERG5gEUcZn6/n61bt7JhwwYGBgaGfFZaWsqdd955zjYcDgdf/OIX2bRpE36/n8LCQi666CIGBgbCq+//uZtuugmHw6E5ZiIicpqIw8zn8/Hss89is9lISUkZ0kv68wnPn8ZqtVJaWkppaelpn+Xn55/xmiuvvDLSUkVE5DMi4jALBALs2LGDX/ziF5SVlYUfE4qIiIyXEb0zy87OprW1lYSEBKxWa3hI/qnemoiIyFiKOMyMRiO5ubk8+uijVFRUkJGRgclkAqCoqIjPfe5z571IERGRsxlRmDmdTlJTUwGGDAL58wEhIiIiY2FEk6a/9rWvhSc8D2lM789ERGQcDDt96urq+OCDD7j11lv5j//4D7xe72nnTJkyhXvuuee8FigiInIuww6zmJgYsrKyMBqNTJo0CZ/Pd9o5n7a5poiIyGgadpglJydTVVWF0WikuLiYzMxM7Hb7kMWFhzvPTERE5HwadpjZbDZsNhter5cDBw5QXV1NXFwcaWlpZGVlkZWVRVJS0mjWKiIickYjHrFx8OBB/H4/sbGxxMTEkJiYyPTp01m0aNH5rE9EROScRrRq/uc//3n6+/tpaWnhk08+4b333mP//v3Mnj1bYSYiImNuRGszrlq1ip07d1JfX4/NZmPKlCncfPPNzJgxYzRqFBkVoYCXoLtnvMuQPzKYzBhjh7f7hsifizjMBgcHeeSRR0hOTubmm29m8eLFlJWVkZycfN52mhYZC576nbT99t7xLkP+yJpdQdZXnxvvMiRKRRxm8fHxvP/++zQ0NHDkyBHeeOMNfvrTnwJw+eWXc++9+sdBokgoON4VyCn6XshfwBjpBQaDIbyY8IkTJzh69CgHDx6kvr6evr6+816giIjIuUTcM/N4PHz/+9/HbreTlJTEtddeS0JCAgkJCeTm5o5GjSIiImc1ooWGKyoqSElJwel04nQ6SUlJwWq1jkZ9IiIi5zSihYa//OUvj0YtIiIiIxLxOzMREZGJRmEmIiJRb9iPGf1+P263++yNmc3Exsb+xUWJiIhEYthhdvjwYX7+85+fdWJ0WVmZ5pmJiMiYG/Zjxvj4eMrLy5k8eTIej4cDBw5gt9vJy8tjcHCQ+vr6M27YKSIiMtqG3TPLzMzkpptuwu1289prr/GNb3yDqVOnYrPZ6Ovr45133qG+vn40axURETmjYYeZ1WolMzOT/v5+Ojo6yM3NJS8vD7PZjNfrJTExke7u7tGsVURE5IwinmdmMpmYPXs2L7zwAiUlJcTFxdHe3k59fT0VFRWjUaOIiMhZRTw0/9SkaavVSk1NDdXV1TQ1NVFQUMCSJUtGo0YREZGzimhovsvlAmDy5MlkZWVRV1eH2+0mNTWV7OxsEhMTR61QERGRTzPsMOvs7GTz5s1n/KyxsZHGxkYyMjKYM2fOeStORERkOIYdZo2NjTz99NOf+rnBYODiiy9WmImIyJgbdphVVlaycuXKs56jnaZFRGQ8DDvMDAYDFosFOPn+bM2aNWzZsoXe3l5yc3O54oormD179qgVKiIi8mkiHs3o8Xh4/PHHee+998jOzg4/Vly9ejUvv/zyeS9QRETkXCIOM7/fz1tvvcWCBQu4/vrrWbx4MTfddBNOp5Pt27ePRo0iIiJnFfGk6VAoRFdXF/n5+eTm5mKxWEhKSsLhcHDo0KFhteHxeDhy5AhvvfUWPp+PKVOmMGvWLLKyssLnuN1udu7cyY4dOwiFQlgsFmbNmkVZWRlxcXGRli0iIhewEa0AMmfOHNatW0d1dTV2u52uri4aGhooLy8fVhudnZ2sWLECj8dDTEwMb7zxBjabjeTkZGJiYgAIBoP09/fT19cHwIkTJ+jr68NsNlNZWRlp2SIicgGLOMysVit33303Tz/9NHV1dZhMJnw+H1OnTuW666475/Ver5eGhgbee+89VqxYgdPp5OGHH6a6uprJkydTWFgIQGxsLFdccQXXXHMNABs3bmTlypVUV1crzEREZIiIw8xoNJKXl8cPfvADOjo6aG1txWg0kpmZSVpa2jmv7+/vp6Ghgfz8fLKysrDZbFxyySUcPnyYhoaGcJgZjUZsNhsdHR2cOHGCw4cPY7VaP3WVka6uLrq6uvD5fHR0dIRHXoqIyIUv4jDz+Xy89tprXHXVVWRkZLB161beeecdMjMzueWWW5g2bdpZr/d6vfT29pKRkRGel5acnIzP5wsvl/XnX+vZZ5+lubmZ++67j5kzZ56x3ffee4+XXnqJlpYWTpw4wQ033BDprYmISJSKeDSj1+vlySefZHBwkKNHj7Jp0yaSkpIAeOaZZ85rcTabjS9/+cu8/vrrPProozQ3N7N169Yznrts2TJ+/etf8/rrr3P33XdrkIiIyGdIxGEGJ0c0AuzatYucnBxuuOEGSktL8Xg857zWarWSlJREa2truJ2uri4sFssZA8hkMmG1Wrn88svp6uri6NGjZ2z31HlWqxWTyTSS2xIRkSgVcZgZDAbS0tL47W9/y8qVK0lMTKS0tBSTyUQwGDzn9QkJCeTl5VFXV0dzczODg4Ns3bqVhIQE8vPzw+f5fD6am5vDgVdbW4vP58Nms0VasoiIXOAifmdms9m4//77qamp4eqrr+bSSy8lJiaG7OxsrrjiinNeb7FYyMvLY8mSJfz4xz/GarUyODhIWVkZJ06c4NChQ0yaNInk5GRWrVpFU1MTRqORvr4+SktLufTSS0d0oyIicuGKOMzMZjMLFiyguLiY2NhYHA4HBoOByZMnU1xcPKw2UlJSuOOOO3j//ffx+/0UFxczffp03G43wWAQu92O1WqlpKQEm82GwWDAarUyY8YMSktLI75JERG5sEUcZnCydzVp0qQhx9LT04d9vdVqZerUqUydOvW0z04NzQe49tprR1KeiIh8xgz7nVkoFBrWOzEREZGxNuwwc7lcHDt2jGAwyPHjx/H5fKNZl4iIyLANO8x2797Ngw8+SG9vL9/97ndpbGzE6/UO+Y/f7x/NWkVERM5o2O/MgsEgnZ2dvPrqq2zdupX169eTkZEx5JzMzMzw/mYiIiJjZdhhVlpayt13382WLVvo7Oxk48aNp62TWF5erjATEZExN+wwS01NZenSpVRWVuJwOFi6dGl4GatT4uPjz3uBIiIi5zLsMDObzaSlpZGSkoLVaqW5uZmPP/4Yl8tFWloa06dPJzc3dzRrFREROaOI55kFAgGqq6vZuXMnFosFi8XCoUOHaGpqoquri3nz5o1GnSIiIp8q4rUZfT4fzz//PKmpqSxevJibbrqJuXPn0tfXx1tvvTUaNYqIiJxVxGEWDAapr69n0aJFzJw5kylTpnDllVcyZcoU2traRqNGERGRs4r4MaPBYCA7O5s9e/aE11Hs6uqiubl5WDtNi4iInG8jWjX/m9/8Jg8//DDBYBCbzUZvby/Tp0/n/vvvH40aRUREzmpEq+bPmTOHVatWcfz4cdxuNykpKWRmZhIbGzsaNYqIiJzViFbNN5lM4U05Q6EQJpMJk8mEwWA43/WJiIic04jCDAjvMSYiIjLeIh7NKCIiMtGMuGd28OBBOjo6KC4uJjk5mf7+fgCNaBQRkTEXcc/M7/ezadMm3n77bZ5//nkOHTqEz+ejurqaDz74YDRqFBEROauIw8zr9fKLX/wCl8vFkSNHOHHiBDabjePHj/Puu++ORo0iIiJnNaIVQA4fPsytt97KpEmTMBqNmM1mTCYTgUBgNGoUERE5q4jDzGAwEBsby8DAAH6/H5/PR2dnJ729vRrdKCIi4yLiASAWi4U777yTRx99lC1btuByuVi1ahVWq5WvfOUro1GjiIjIWY0ozG688UZKS0uprKxkYGCAnJwcKioqmDx58mjUKCIiclYjGppvNBopKirC4XDg8/mw2+2kpKRgs9nOd30iIiLnFHGYeTwevv/979PW1hYe+OHz+TCZTCQnJ5Obm8stt9xCbm6ulrcSEZExEfEAkEAgwL59+/B4PDidTiZNmoTD4eDEiRMcOXKEjo4Onn/+eXw+32jUKyIicpoR7WcWHx/P3/zN3zBr1izi4+Npa2vjjTfeoLq6moULF/K9732P+++/X6MbRURkTIxonllTUxMWi4VAIMDAwAAGgwGfz4fL5SInJwe/3z8atYqIiJxRxD0zk8lERUUF69evp6urC4fDQW1tLYcPH6agoACTyURubi5Go9YwFhGRsRFxmMXExPDDH/6Qp556ip/97Gf09PSQm5vL9ddfz7Jly7BYLPzrv/6rHjGKiMiYGdE7M4fDwTe/+U2+/vWvEwqFwktaWSwWAPLz89UzExGRMRNxmIVCIbq7u3n55ZfZv38/vb29BINBAC666CL+4R/+QUPyRURkTEXcffJ4PPz4xz+mu7ubgwcPkpSURFZWFn6/H5PJNBo1ioiInNWI9jPbsmULl1xyCUlJSUybNo3bb7+dWbNm0dXVNRo1ioiInNWIXmz5fD4KCwtJT08nGAySmJhIbGwszc3N57s+ERGRcxrR0PwZM2aE/7uxsZGXXnqJrq4uCgsLh9WGz+ejqamJHTt2EAgEyM3NZcqUKTgcjvA5g4ODHDp0iKNHjwJgs9mYOnUqubm5GikpIiJDjGjV/GXLlhETE8M111zD2rVr+eSTT8jOzmbRokXDaqO7u5vf/e537Ny5E6PRSGJiIl/84heZM2dOeESky+Xiww8/ZNu2bZhMJgYGBpg3bx7XXHMNRUVFkZYtIiIXsBGNZnS73cTExJCens4999wDQG1tLY2Njee8PhAI0NjYyMqVK1mxYgW5ubk8+OCD7N69m+LiYrKzswGw2+1ceuml3HXXXdjtdt58801ef/110tPTFWYiIjLEsN+ZhUIhAoEA/f39/Nu//RvNzc34fD58Ph9er5etW7fywgsvnLOd3t5eampqKCgoIC8vD7vdzmWXXRY+fkpsbCyXXHIJsbGxGAyG8Ooibrf7jO36/X4GBwdxu91a5FhE5DNm2D2z3t5edu3axfbt22ltbeWFF14gLS0NODlcf//+/cN6l+XxeOjp6SErKys8Hy0lJYWDBw/S39//qde9++672O12CgoKzvj56tWr+d3vfkdLSwudnZ0sW7ZsuLcmIiJRbthhFgwGcbvddHV14fP56O7uDoeR2Wxm7ty5VFZWDqutU6uGnHKqnVAodMbzN2zYwObNm1m6dClVVVVnPOeqq66iqqoKn8/H888/j9k8on1HRUQkCg37X/z4+HhmzpxJUVERF110EWVlZcTExAAnd56Oi4sjOTn5nO1YLBbi4+M5ceJEOLx6e3sxm83ExsYOOdfv97Nv3z6eeeYZ5s+fz/z584mPjz9ju8nJyeGvn5qaSl9f33BvTUREotyww8xisZCenk5qaio2m40dO3bQ2tqKx+MJh1JRURG33HLLWduJj48nJyeH+vp6Ojo6yMjIYPfu3TgcjvDgDzg5fP/YsWM8/vjjTJs2jYULF+J0OrVUloiInCbiZ3E+n4+XX36Z3t5eLBbLkMeFXq/3nNdbrVby8vKYPn06zzzzDHFxcbS2tjJr1iw8Hg9bt24lOzsbq9XKypUreeutt0hNTWXdunUkJiZy8cUXU15eHmnZIiJyARtxmH39619n+vTp2O32cG/Jbref83qDwUB6ejp33XUXr7zyCr29vcybN48ZM2bQ19dHT08PqampWCwWLBYLN954I2azmZaWFvr7+5kyZUrkdykiIhe0EW0Bk5GRQXFxMfn5+dhstvBnw932JSYmhlmzZjFr1qzTPvvTXteDDz4YaXkiIvIZNKLlrKZOncrrr79Oe3s7GRkZ4dXyExMTKS4uPu9FioiInM2IHjO+9dZbuFwuXnzxxSGfXXHFFfzsZz87b8WJiIgMR8RhFh8fz/r16884J+zUuooiIiJjKeItYAwGAzExMaxfv56nnnqKuro6jEYjTU1N1NbWjkaNIiIiZzWinaYff/xxjh07xscff0xjYyNWq5WjR4+yevXq0ahRRETkrEa00/SGDRuoqqrCbrfj8/mw2Wx4PB6OHz8+GjWKiIicVcRhFgqFcLlcFBcXk5iYiMFgwOPx4PV6hz00X0RE5Hwa0dD8yspKtm3bRmNjIwcOHMDv91NbW6sJzSIiMi4i7kpZrVb++q//mj179hAIBNi/fz+vv/46ANddd915L1BERORcIu6ZGY1GJk+ezLe//W2OHj1KX18fmZmZZGdnh1fRFxERGUsRh5nf7+fNN99k9uzZVFZWYjabGRwc5OjRo3R1dTF//vzRqFNERORTjWho/hNPPIHH4wlvgGmz2Thy5Ai///3vz3uBIiIi5zKi4Ycul2vICiAGgwG/38/AwMB5K0xERGS4RvTObNKkSaxevZqFCxeSnp7OoUOH2L17N06nczRqFBEROauIw8xqtXL33XezceNGnnvuOQwGA6FQiMzMTL0vExGRcRFxmAUCAVpbW5k5cyZtbW0MDAyQkpLCtGnTKCsrG40aRUREziriMPN6vTz33HM89thjXH/99eFdpkVERMbLiN6Zmc1mtm3bRn9/P3a7PRxocXFxZGdnn/ciRUREzibiMDMYDKSlpfGTn/yEkpISMjIywkP0p06dyle/+tXzXqSIiMjZRBxmFouFJUuWsGDBgvCxUz0z9cpERGQ8jCjMbr75ZjweD+3t7SQmJpKYmAigVfNFRGRcjGg/s+3bt/Otb32Lr3/96+zcuZP+/n7Wrl3LM888Mxo1ioiInFXEYeb1evn1r3/NwoULiYmJwe12Ex8fz+DgIPv37x+NGkVERM4q4jALBoMcPXqUWbNmkZmZidFoJCYmBovFgsfjGY0aRUREzmpEoxnT09NpamrC5XLhcrnYt28fdXV1pKWljUaNIiLnRXVbNdsato13GfInnIlOFpUu+ovbGdEAkGuvvZYDBw7Q1dXFzp07aWhowOPxMG/evL+4IBGR0bK7aTc//ein412G/ImZeTPPS5gN+zFjKBTC6/XS1tbGnDlzGBwcpKioiJ6eHgYHB7nyyitZvHjxX1yQiIhIpIbdM/N4PBw5coQ1a9bQ3t5OVlYWy5cvZ8qUKdphWkRExtWwe2bV1dX84Ac/4PDhw5SWlrJ3716efPJJdu3aNZr1iYiInNOwe2Zutxuv18vPf/5zLBYLt912G//8z/9Me3v7aNYnIiJyThENADGZTCQlJQGEFxgOBoOjUpiIiMhwDTvMBgYG+Pjjj/nSl74EnBwQsm3bNvbt28eLL74IQGVlJQ888MDoVCoiIvIphh1mJSUlPPDAA+EV8gHmzZuHwWAIr8mYn59//isUERE5h2GHWUFBAffff/9o1iIiIjIiEU+aPh/8fj/Nzc3s3buXQCCA0+mkuLiY5OTkIee0t7ezZ88eenp6KCsro6ioiLi4uPEoWUREJrBxCbPu7m5WrVrFhx9+iMFgICMjg9tvv51LL70Ui8UCnFzQ+NChQ/zmN79h06ZNLF++nC996UsKMxEROc2Yb0AWCARobGxkxYoV/PCHP+Q3v/kNALt27aKjoyN8nsViYdKkSXz3u9/lxhtvJCUlZaxLFRGRKDHmPbPe3l5qamooKCggPz+fmJgY5s2bR21tLceOHcPpdAInwywvLw9gWCuMhEIhQqFQ+M8iIvLZMeZh5vV66enpISsrC4PBAEBKSgqHDh3C5XKNuN3Vq1fz8ssv09raSnt7O0uXLj1fJYuIyAQ35mEWCoUIBoOYTKbwsVND+/+SCdjz589n6tSp+Hw+XnzxRa0XKSLyGTLmYWaxWIiPj6ezszP8OLC3txez2Yzdbh9xuykpKeH3apmZmfT19Z2XekVEZOIb8wEgcXFxZGdnU19fz4kTJ/B6vezduzd8XEREJFJj3jOz2Wzk5eVRVlbGihUrSEhIoKmpiaqqKnw+Hzt37iQrKyu8m/W6devYtWsXDQ0N9PX1cc011zB9+vSxLltERCawMe+ZGQwG0tPT+cpXvkJbWxsHDhxg9uzZVFZWEgwGaW1txeVyEQwG6e3tZc+ePWRlZWGz2WhoaKCtrW2sSxYRkQluXCZN2+125sm1sr8AABRqSURBVMyZw5w5c077bNq0aUP+/Nhjj41laSIiEoXGvGcmIiJyvinMREQk6inMREQk6inMREQk6inMREQk6inMREQk6inMREQk6inMREQk6inMREQk6inMREQk6inMREQk6inMREQk6inMREQk6inMREQk6inMREQk6inMREQk6inMREQk6inMREQk6inMREQk6inMREQk6inMREQk6inMREQk6inMREQk6inMREQk6inMREQk6inMREQk6inMREQk6inMREQk6inMREQk6inMREQk6inMREQk6inMREQk6inMREQk6inMREQk6inMREQk6pnH44sGAgF6e3tpamoiGAySlJREeno6drt9yHl+v5+GhgbcbjcGg4HMzEySk5MxmUzjUbaIiExQ4xJmfX19rFmzhp///Of4fD4uvfRS7r77biorKzEaT3YWA4EAra2tPPzww9TU1GA0GrnrrrtYtmwZ6enp41G2iIhMUGP+mDEUCtHc3Mx//dd/8eSTT/Lmm28yMDDA1q1b6ezsDJ/X3d3NH/7wB+Li4njhhRf4zne+Q3V1NR9++OFYlywiIhPcmIdZX18fx44dIzc3l0mTJpGYmMjcuXPp7u7m2LFjQ87buHEjN954Iw6Hg7lz5+JyuaivrycUCo112SIiMoGN+WPGwcFBOjs7cTqdWCwWDAYDWVlZHD9+nN7e3vB5Xq+XpqYmCgsLsVgsmM1mrFYrXq+XwcHB096vvfPOO7z11lt0dHRw4MABfD7fkHA8G7fHj6HxxHm9z/EyMDgIgD0mZpwr+cv4DQb+8e/fxWwavd+3goN9+Foto9b+WHG5XFgsVqzW6L4Xg7UR65Z7R/VrtPe34+vxjerXGCv9/f3YYmxYzNH9fd8bs5d7X4/s+7579248Hs+QY2MeZsFgEL/fj81mCx+zWCyEQiH8fn/4WCgUwufzYbPZMBgMGAwGTCYToVCIQCBwWrvFxcUYjUYGBgZYunQpoVDotMD7LFi9ejUAy5YtG+dKZKw89dRTTK+qYtasWeNdioyhxx57jEWLFlFRUTHepYy5a665hqlTpw45NuZhZjabsdvtQ3phLpcLk8k0JOBMJhPx8fH09PQQDAYJBoN4vV6MRiNWq/W0dgsKCigoKBiTe5jIDhw4gMFgYOnSpeNdioyR1atXU1VVpe/5Z8xzzz3HzJkzWbBgwXiXMiGM+Tuz2NhYMjMzOX78OD09Pfj9fg4fPkxsbCwZGRnh82JiYpg8eTI7duxgcHCQxsZGAJKSks4YZiIi8tk15j0zu91OQUEBDoeDtWvXkpqayuHDh1m0aBExMTEcO3YMh8NBYmIiCxcu5I033iAlJYXjx4+TlpbG5MmTx7rkqJKSkjLeJcgYy8zMJD4+frzLkDGWnZ1NbGzseJcxYZj+5V/+5V/G8gsaDAasViuZmZk8//zzbNmyhenTp7No0SI6OzvZu3cvdrud3NxcsrOz+eSTT9iwYQNNTU0sWbKEyy67bMjjSBnKaDTidDrJzMwc71JkjJjNZgoLC0lOTh7vUmQMmc1mJk2aREJCwniXMiEYQhrnLiIiUU5rM4qISNRTmImISNQbl7UZ5cy6u7t58803ee211/jmN79JZWVlxG309fWxbt062tvb+du//dtRqFLOt5deeolXXnkFq9UannqyfPlyysvL9X44Sv3v//4vfr+fW2+9lb6+Pvbt28fVV199zusCgQB33XUX/+///T+cTifr168nISGBJUuWjEHV0U1hNoHU19fz8ccfc/jwYd5++21mzJiBwWCIqA2fz8fx48dpaGiI6LpAIKDdCMZJQ0MDg4ODLFu2jNjYWMxmM06nE7P5//7veerVdqQ/DzI+amtrw6sV1dTU8PLLLw8rzEKhEJs3b6avr4/CwkLKy8s1FWmYFGYTyLFjx+jq6mLx4sW8//77/P3f/z0Wi4W+vj7efvttenp6gJPL2OTn57N06VLMZjMtLS28/fbbdHZ2Eh8fT11dXXj3AbfbzXvvvUd9fT1er5fS0lIqKyux2+3s37+fffv2YTabOXHiBPfeey979uzh8OHD9PX1kZWVRVVVFcXFxeP51/KZkJOTw7XXXktiYmL42BNPPEFKSgoejwen04nT6aSuro76+nqCwSA5OTksWbKEhIQE3n//fVpaWjAYDLS2tmK321myZAl5eXl0dnby7rvv0tLSQigUoqSkhHnz5mGxWNi3bx/btm3D7/eTlpbG3LlzycvLU2ieJ01NTaxdu5YNGzbwP//zPxQVFTFnzhx27tzJ0aNH8fl8ZGRkMHv2bAoLC4dc6/P5qK+vJzY2ltzcXOrq6njnnXfw+U4ux3XFFVdQWlqKxWJhz549bN26Fa/Xi81m4/LLL6ekpISBgQHefPNNXC4XoVAIl8tFYWEhV199NUajke3bt7Nr1y7cbjeJiYlccsklTJs2jdbWVj744AM6OjoIBoNceumllJeXT+gpIAqzCaK3t5fm5mbi4uK4+uqr2bx5M8eOHWPSpEn09/fz0ksvATB9+nSam5vZv38/U6ZMYfLkyfzhD3/g8OHD2O12WltbaWhooKCgALfbzd69e9m4cSPx8fH4/X7efvttDAYDxcXFfPTRR7z66qssXbqUwcFBDh48yObNm3G73QA0NjbS09OD0+nUfJZRVldXx+9//3tiY2Ox2Wxcd911PPXUU8yePZuioiIcDgeDg4N0d3fT29uL1+vlk08+IT8/n4qKCjZt2sTu3buZNGkSAB0dHXi9XpYvX86WLVvYsmULJpOJ2NhY+vv7GRgYoLW1lddeew2r1UooFOLIkSPYbDbi4uJITU0d57+RC0MgEGBwcJBAIEBfXx9utxu/309fXx/d3d14PB6am5vp7Ow87bWAy+Xi3XffJT09nZkzZzIwMEB3d3e4rTVr1vD5z3+ewsJC3G43XV1d+Hw+BgYGqKmp4aGHHqKvr4+VK1cSExNDRUUFjY2NHDx4kNLSUoqKinj22WeJi4sjNjaWYDDIwMAAHR0dbNmyhX379hEbG8vAwED4Z7O8vDz8i/JEMzGr+gyqqamht7eXyZMnk5+fz8UXX8y6desY/OPCwR6Ph8mTJ/PVr36VL3/5y1itVrZu3YrP5+OFF15g3rx5PPDAA1x99dXh+UadnZ2sXbuWEydOUFVVxbx582hpaWH37t3hH/z4+HiWL1/Oww8/zIcffkhtbS2FhYXMmzcPk8nEli1baGlpGc+/ms+E9vZ2Nm/ezMaNG9myZQuBQAC/38/UqVO55557uOmmm5gyZQpVVVXMnz+fOXPm0N7ezrZt28I99vj4eC6//HK+9a1vsWjRIl555RUCgUB4hZ2rrrqK5cuXh5e92rlzJx999BEXX3wx8+bNw2g08sknn1BXVzeefxUXlJycHBYtWkRRUREPPfQQt912G+np6UybNo3LL7+cuXPnYrFYWLt27WkL5/4ps9lMVlYWV155JXPnzqWqqor169dTV1eHyWSioKCAK664grlz51JSUsLzzz9PT08PoVCIwcFBpk6dyvLly7n99tsxm81s376dYDDItm3bmDFjBrfffjt33nknM2bM4NixY6xfv57Y2FjmzJnD7Nmz+eijjzhy5Aher3cM//Yio57ZBLFv3z6OHz9OVVUVTU1NZGRk8Nprr3HbbbcBkJycTF5eHqmpqXR0dJCZmUlbWxsulyv86CAxMZGSkhJKSkpob2/H5XKxa9cuuru7+dWvfoXRaGRwcBCr1YrH4wmfn5aWRigUYu/evdTW1lJfX4/NZgs/ljzVU5PRM3PmTL73ve8NecxoMpmYNm0aGRkZhEIh6uvrWbVqVXhXiLq6Ourq6sK/8OTn51NSUkJcXBzZ2dm0t7cTCoWorKzkueeeY926dbS0tDBjxgysVisHDhygpaWFX/7ylxiNRnw+32dy0dqx1tvby9q1a9m6dSsej4eWlhaMRiM9PT2fuoLPwMAA+/bt4ze/+Q39/f0YjUaqq6sZGBjA5XKxZcsWVq9eTX9/P4ODg/T09NDV1UVCQgIOh4P8/HxSUlJISEggPT2djo4OjEYj8+fPZ8OGDTQ0NDB9+nSmTZvGiRMn2LFjB/X19ezYsQM4+YuSwWDA6/USM0F35FCYTQA+n49Dhw6xdu1aPvjgAwwGA36/n6amJtrb20lOTsZkMg0ZoGEwGAgEAuEdBfx+f3hHglO7DxgMBhwOB3fddRdXX301drudYDAInHyEuG/fviEvly0WC7fffjvXXnst2dnZhEIhQqGQ3p+ME4vFgslkCn9/t23bxu7du/npT39KQkIC//7v/04oFAp/T//0Z+TUz0coFGL+/PmUlpayfft2Vq1axQcffMD1119PcnIyN954I9/5znew2Wz6fo+iP12bYuPGjRw9epQvfvGLXH311axZs4Zf/vKXZ+311NbW8s477zB16lQeeOABBgcHufLKKwkGg+zbt49du3Zx8cUXc99999HQ0MDixYvx+XyEQiHMZnP40eCpfy8CgQBms5kf/vCH7N27lw8++IDHHnuMq666iqlTp1JaWsqDDz5IWVkZcPJxqdFonNA/G3rMOAFUV1fj8/n4xje+webNm9m0aRPr16/nuuuu4+OPP6a7u/uM1xmNRhITE0lMTOTQoUN0dXWxZ88e9uzZA0BiYiIXXXQRzz77LH19fYRCIVpbW8PvU/7cnDlz2LhxIzU1NQSDQbq7u2lqajrr4w8ZG6d+SbFYLCQkJNDT08PatWvp7+8/57VNTU0kJSWxdOlSbr31VpxOJy6Xi+Li4vA0jkAgQH9/P62trfT19Y3BHX02nNqH8U+fbrjdbux2O3FxcbS0tPDJJ5/Q3t5+1nZ8Ph8+ny/8LvO1117jxIkThEIhPB5P+N+CU720xsbG8C85nyYQCNDS0kJZWRn33nsv5eXl9Pf3k5ycTGZmJi+//HI4hI8ePTrhfy7UM5sAtm/fjslkoqKiItyFT0xMZOnSpbz55puUlpZ+6rUGg4GHHnqIZ555hhdeeAGn0xn+IU5LS+OWW27h+PHj3Hvvvfh8Pux2O3fccQcXXXTRae3cdNNNdHR08Pjjj/PII49gsViYP38+99133+jdvAyLzWajvLycjz76iJtvvhmHw0FRUdGw5qG99957rFu3jq6uLoxGI/PmzWPRokWEQiHuuOMO/u7v/i7cI7v55ptZunTpkMedMnJWqxWn00lGRgY33HADs2fP5rrrrmPr1q088sgjpKenh0ernk1BQQFVVVU88cQTrFmzhvLycuD/HkXv3buX3/72t6xZs4bk5GQKCwvPOdXG6/Xy8MMP09HRQSAQIDs7m0WLFlFZWYnBYODpp59m2bJlhEIhHA4H3/72t0c093WsaG3GCaCxsRGv10tKSgpJSUnAyU1MOzs7aWlpIScnh7a2NpKSksjKysLtdtPe3o7RaCQvL4/+/n5qamoYGBgIjzqMiYmhpKQEv99PXV0dXV1d4UcLOTk5JCYm0tXVxcDAACUlJUNqaW9vx+PxYDKZSElJoaCgQHPQRtGpeWZFRUVD5pZt3bqVkpISHA4HcHJC/Kmtk6xWK3a7HZvNhtPppK2tDTi5gr7NZqO3t5eDBw8yc+ZMWlpaaG1txefzYTabSUtLIycnh1AoRHt7O8ePHw+HWVZWFhkZGZqs/Reqra0lGAxSUFCAx+Ph2LFjuFwuHA4H2dnZtLS00NXVhcViwWg0YjQaKS0txWq1snnzZqZNm4bNZqOhoQGr1Up2djZdXV0cO3YMAIfDQUdHB6WlpTgcDlpaWmhubsZgMBATE4PL5aK8vByz2UxtbS0Oh4PMzExcLlf4fVl2djb79u1jcHCQUChEYmIiTqeTpKQkXC4X9fX19Pf3EwqFsNlsTJo0aUL/kqMwExGRqKd3ZiIiEvUUZiIiEvUUZiIiEvUUZiIiEvU0NF9kggmFQgwMDIS3gzEajXg8nvBoxJiYmPAyRaecWl/x1ORWi8UyjncgMvYUZiITjMfj4Uc/+hEpKSn81V/9FXl5eaxatYo1a9Ywb948vva1rzE4OMiPfvQjrFYrNpuNa6+9Fo/Hw549eygsLGTBggXjfRsiY0phJjLBmEwmysvLef/99+np6SE3N5e+vj5qa2vJzc0FCC9vdddddzF79myysrLC27uoVyafRQozkQnGZDJRVVXF008/TW9vLx0dHYRCIVJTU8N7Unk8Hg4dOkRTUxNvvPEGV155JR6Ph/3795OXl0dJSQn/+Z//SUlJCQcPHqS7u5slS5awcOFCMjIyxvsWRc47hZnIBGMwGMjPz8fn89HV1cWRI0cAqKioICEhgYMHDxIKhUhKSgqv8NLT04Pb7aampoaYmBiys7PZsWMHfr+fOXPm0NDQwK5du0hLS2Px4sXjfIci55/CTGSCMRgM2O12cnNzaW9vp76+HqPRyCWXXEJXVxfbt2/HZrNRUVGB3W7/1JXMTSYTU6ZM4ZprrqGjo4P//u//1l5lcsHS0HyRCaqiooLW1lZ27doFwIwZM0hPT2f79u3s3buXGTNmnHVvKZPJRFlZGVarNfyI8k9HQIpcSBRmIhPUtGnTaGxs5OjRo5hMJgoLC3E4HBw4cIA9e/Ywffr0c26UaDabw3tYwdB9tUQuJAozkQmqrKwsvKJ+fHw8VquVmJgY3G43tbW1lJeXa3V7kT9SmIlMUIWFhdjtdoqKisjJyQEgISGBadOm4XQ6SU5OJiYmhpiYmNN2ITeZTMTFxQ3pmdnt9iE7i4tcSLQFjMgENjAwAJxc4cNkMhEMBvF4PIRCIex2O4FAILxP3dq1a9m2bRuXXXYZixcvxuPxhK8LhUJ4vV4MBoMCTS5IGs0oMoHZ7fYh/9toNA45ZjabMZvNvPXWW7z66qs4nU4qKytPO89gMOiRpFzQ1DMTuQC0tbXR0tJCXFwcBQUFQ3asFvksUJiJiEjU0wAQERGJegozERGJegozERGJegozERGJev8f2dpOIuSaLC8AAAAASUVORK5CYII=)"
      ],
      "metadata": {
        "id": "mLF6U8Na8bAy"
      }
    },
    {
      "cell_type": "code",
      "source": [
        ""
      ],
      "metadata": {
        "id": "iAS7WenFGDYL"
      },
      "execution_count": null,
      "outputs": []
    },
    {
      "cell_type": "code",
      "source": [
        ""
      ],
      "metadata": {
        "id": "lDTbwFJbTwj7"
      },
      "execution_count": null,
      "outputs": []
    },
    {
      "cell_type": "markdown",
      "source": [
        "Plot a clustered bar chart of the dataset  \n",
        "\n",
        "![image.png](data:image/png;base64,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)"
      ],
      "metadata": {
        "id": "cqktO4lRUskQ"
      }
    },
    {
      "cell_type": "code",
      "source": [
        ""
      ],
      "metadata": {
        "id": "Gg-j1oKomirg"
      },
      "execution_count": null,
      "outputs": []
    },
    {
      "cell_type": "code",
      "source": [
        ""
      ],
      "metadata": {
        "id": "niUxUqQWZMrD"
      },
      "execution_count": null,
      "outputs": []
    },
    {
      "cell_type": "markdown",
      "source": [
        "Plot a bar chart (stacked bar chart) of the dataset\n",
        "\n",
        "![image.png](data:image/png;base64,iVBORw0KGgoAAAANSUhEUgAAAZkAAAFTCAYAAADr1nEcAAAgAElEQVR4nOzdeZxU9Z3/+9c5tXdVV+87TTfQzSqbKKIQFARU3JcxjhEni8noTJI7ifd35/dLcn0kuWbm5pft+ps4k0kmE0YTg5GMa0TBDdkXZaeBZm2g9726a69z7h9ojwgo5NdFNfB++uiHUHXq1OdUNfWu8/1+z/dr2LZtIyIikgZmpgsQEZGLl0JGRETSRiEjIiJpo5AREZG0UciIiEjaKGRERCRtFDIiIpI2znQ/QUtLC319fZim8kxE5GKTSqUoKioiJyfntPcb6b4Y8xvf+Aavv/46hYWF6XwaERHJgKNHj/L444/zuc997rT3p/1MJi8vj4cffpjPf/7z6X4qERE5z/7bf/tv+P3+M96f9pAxTROv10swGEz3U4mIyHnmdrs/8X51lIiISNooZEREJG0UMiIikjYKGRERSRuFjIiIpI1CRkRE0kYhIyIiaaOQERGRtEn7xZgi59PWtq38YP0PMl1GRkwumsx3Znwn02VkhN73ofu+K2TkotKf6GdP555Ml5ERBd6CTJeQMXrfhy41l4mISNooZEREJG0UMiIikjYKGRERSZtTOv5DoRChUIhkMonD4SAQCJCdnU0sFqOjo4NUKoXb7SY/Px+Px5OJmkVE5AJxUsjYts3SpUt57rnnaG5uprCwkDvuuIP77ruP7du3861vfYve3l5qamr49re/zdSpU3E6NUBNREROb6C5zLZtWltbee6553j44Yd5/fXXeeCBBzh8+DDPPPMMS5cu5ZFHHuGtt95i4sSJrF69moMHD2aydhERGeJO6pNJpVL09/fjdDrJzs7G4XAAEIlEqKurY+HChRQVFTFv3jwaGho4duxYRooWEZELw0Bbl2EY5OfnM3/+fJ5++mmeeuopDMPg8ssvp7KyEtM0yc/PxzAMqqur6enpobe3N5O1i4jIEDcQMrZtY9s20WiUcePGUVhYSENDA319fXR2duJ0OjEMAwCPx0MqlSKVSp2yw1QqxaZNm9i0aRPhcJiNGzeyYMGC83dEIiIyZAw0l1mWRX19PW1tbSxYsICHHnqIuXPnYlkWO3fuJBaLYVkWAP39/bhcLlwu12l36nK5yMrKwu/3n3EbERG5+J10JtPc3EwsFsPpdOJ0OvH7/bjdbmKxGB6Ph4aGBoYPH05dXR15eXnk5eWdskOHw8G0adOYNm0aAN3d3bjd7vN3RCIiMmQMhIxpmlRVVRGLxdixYwfJZJKtW7cSj8e55pprOHDgAM8//zxXXXUVK1eupLa2lsrKykzWLiIiQ9xJITNmzBgWLlzIsmXLWLJkCcXFxSxcuJBbbrmFuro6/uEf/oGXX36ZUaNGMWPGDIYPH57J2kVEZIg75UrKRYsWsWjRolM2nD59Oi+88MJ5KUpERC4OmrtMRETSRiEjIiJpo5AREZG0UciIiEjaKGRERCRtFDIiIpI2ChkREUmbi3rFsaSVpDXcmukyMsJpOinOKs50GSJyibuoQ+ZI7xHuePGOTJeREaNyR/HC7bp4VkQyS81lIiKSNgoZERFJm4u6uaw0meRnre2ZLiMj/KmCTJcgInJxh4zfspnXH850GZmRFcl0BSIiF3fIyKWnIpni8z29mS4jI6pzL9EvVDKkKWTkolIdT/BoZ3emy8iMvL5MVyByCnX8i4hI2ihkREQkbU5pLrNt+5SNDMM45b4PbxMRETmTgZCxLIsjR47wve99j6amJgB6enoYPnw4ixYtoqamZuC+4uJivvnNbzJt2jTcbnfGihcRkaFtIGRM06SsrIz//t//O/F4HMuyePrpp2lra8Pv9/Pqq68yevRoHn30Ud58801Wr15NMBhkwoQJmaxfRESGsJP6ZLxeL2PHjmXSpEkUFBSQnZ1NVVUVbrebTZs2ceutt3L55Zdz0003sX//fo4cOZKpukVE5AJwxo7/Xbt2kUgkGDduHMlkkqamJsaPH49pmtTW1tLd3U139yU6VFRERM7Kaa+TsSyL7du3Y5omkydPprm5mVgsht/vByArK4tkMkkymTztY+vq6ti7dy/RaJS6ujry8vLSexQiIjIknfZMpr29nWPHjhEMBhk5ciQOhwOXy0U0GgUgFovhcDhwOBynPNayLNra2ti1axfbt2+nra0Ny7LSexQiIjIknfZMZsuWLbjdbkaOHInP58Pn81FUVMSBAwcYO3YsR44cITs7m+zs7FN36HRy3XXXcd111wHw+OOP4/F40nsUIiIyJJ32Opn169eTn5/PmDFjACgsLGTy5Mm8+OKLBINBXnvtNaqqqqisrDzvBYuIyIXjlOayaDTKtm3bKCwspKamBoDKykpuv/123njjDebPn89//ud/MmvWLMaPH3/eCxYRkQvHKWcyXq+XX/7yl3i93oFmLpfLxfjx41myZAmpVArTNMnJydGFmCIi8olOCRnDMCgsLDzlNrfbTXFx8XkrTERELnyaIFNERNJGISMiImmjkBERkbRRyIiISNooZEREJG0UMiIikjYKGRERSZvTzl0mInIhuSIa4/WjjZkuIyM8ro5Ml/CJFDIicsHzWDblp1l65JKQSmW6gk+k5jIREUkbhYyIiKSNQkZERNJGISMiImmjkBERkbRRyIiISNooZEREJG0UMiIikjanXIwZDod59tln2bRpE319fUyaNIk777wTgCeffJLW1lYKCgr4whe+wIQJE3C5XOe9aBERuTCcEjLPP/88zc3NTJ8+nby8PPLz8+nt7WXjxo2Ypsldd93Fe++9x+rVq/H7/dTW1maibhERuQCc1FwWi8V4/fXXGTFiBLfeeiu33XYbM2bMIB6Ps3btWhYuXMhtt93GzTffTF1dHYcOHcpU3SIicgEYOJOxLIv29nba2tpob29nzZo1OBwORo4cSX9/Pw0NDVxxxRU4HA4mTpxIR0cHnZ2dp+zQsiz27dtHfX09sViMvXv3kp+ff14PSkREhoaBkLFtm/b2duLxODt27KChoYFwOExNTQ1+v59IJEIwGAQgEAiQSCSIx+On7NCyLI4fPz7Qp9PY2EhqiE/gJiIi6XFSn4zD4aC5uZn77ruPe+65h23btrFixQo2bNiAw+EgkUjgcrlIpVKYpolpnjo4zel0cv3113P99dcD8Pjjj+PxeM7P0YiIyJAykBKmaVJSUkJZWRm1tbXk5uZSVVVFSUkJ7e3t5Obm0tjYiGVZtLS0kJWVRVZWViZrFxGRIW4gZAzDoLCwkLKyMjo7O+nt7aWhoYHW1lYmTZrEZZddxgsvvEAymWT58uVUVFRQUVGRydpFRGSIO6m5zDAMHnnkEX73u9/x7//+77jdbq6++mq+8IUv0NTUxA9/+ENeeeUVPB4PjzzyCOPGjctU3SIicgE45TqZKVOmkJeXRygUwul0UlRURGlpKSUlJXz/+98nFovhdrsZMWIEgUAgEzWLiMgF4pSQycrKOu0ZisvlYurUqeelKBERuTho7jIREUkbhYyIiKSNQkZERNJGISMiImmjkBERkbRRyIiISNooZEREJG0UMiIikjYKGRERSRuFjIiIpI1CRkRE0kYhIyIiaaOQERGRtFHIiIhI2ihkREQkbRQyIiKSNqcsWvY//sf/oK2tDafTiWmazJo1i3vvvZeGhgb+9V//lba2NvLz81m0aBHjx4/H5XJlom4REbkAnBIy7733HjNmzOCyyy7D7XZTXV1NW1sbb775JvF4nAULFrB161bWrFlDIBBg1KhRmahbREQuAKeEDMCVV17J/Pnz8Xq9AGzZsoU1a9bwuc99jjlz5jBs2DCWLFlCbW2tQkZERM7otCGzefNmotEoZWVl1NTU0Nvby5EjR7jqqqtwOBxMnjyZn//853R0dJzvekVE5AJySshMmjSJpqYmWlpa8Pl8zJgxA6/XSyQSIRgMAhAIBEgkEsTj8VN2aFkWTU1NNDU1kUgkaGxspKCgIP1HIiIiQ85pO/6zs7NJJBIsXryY1atXM3z4cBwOB8lkEqfTiWVZmKaJaZ46OC2VSrFx40b+9Kc/0dPTw5EjRxgzZsx5ORgRERlaTgoZ27bJz8/HMAzcbjfjxo2js7OT5uZmcnJyaGpqoqKigtbWVnw+Hz6f75Qdulwu7rzzTu68804AHn/88dNuJyIiF7+BUxHbtolEIvT395NKpYjH4+zfv5/W1lYmT57MhAkTePHFF0kmkyxfvpyKigoqKioyWbuIiAxxA2cytm3T2dnJD37wA1paWrAsi4KCAubPn8+8efOoqqripz/9KcuWLcPpdPLQQw8xbty4TNYuIiJD3EDIGIZBQUEBDz30EJFIBDjRwV9RUUF+fj5Tp07l29/+NtFoFI/HQ01NDdnZ2RkrXEREhr6TQsbn8zFt2rTTbhgMBpk+ffp5K0xERC58mrtMRETSRiEjIiJpo5AREZG0UciIiEjaKGRERCRtFDIiIpI2ChkREUkbhYyIiKSNQkZERNJGISMiImmjkBERkbRRyIiISNqcsjKmyIUsgodmuyzTZWSEj3xKM12EyMcoZOSisskaw4Oxn2S6jIyYnSjiqUwXIfIxai4TEZG0UciIiEjaKGRERCRtTtsnY9s2r776Kvv27WPq1KnMnDmTI0eO8J//+Z+Ew2FKS0tZuHAhlZWVGIZxvmsWEZELxGlDZu/evaxatYqtW7ficDiora1l+fLlHD9+nGHDhrFlyxaKiorw+XwUFRWd75pFROQCcUpzWTQa5e2338Y0TSorKwE4fvw4b7/9Np/73Of45je/yVVXXcX27ds5cuTIeS9YREQuHKeEzI4dO2hubmbkyJFUV1djWRa9vb20tLQwbdo0HA4HM2bMoKWlhZaWlkzULCIiF4iB5jLbtolEIvz+97/n2muvpaSkhNbWVuLxOLFYDL/fj8PhACA/P59IJEI0Gj1lh7Zt09fXRygUwrIsQqGQmtRERC5RAyGTSqVYuXIlpmlSXV2Nw+EglUphmiapVOqkB9m2fcYdJpNJnn/+eZYsWUJ3dzfd3d185StfSd8RiIjIkHVSyLz//vu89dZbrFixgmQySXd3NyUlJVRVVREKhUilUjgcDtrb28nKyiIrK+uUHbpcLu69915uu+02LMvipz/9KT6f77welIiIDA0DIeN2u/niF7/InXfeSSqV4vDhw7zxxhsEg0FmzJjBM888wzvvvMO1117LW2+9RXl5OWVlp58jyuv14vV6B/6sYc4iIpemgZAxDIOysrKB4HC73ezYsYNAIMD06dPp7u7m17/+NX/4wx8Ih8Pcf//9jBgxImOFi4jI0HfGCTJLSkq44YYbcLlc5OXlMWfOHFwuF/F4nNzcXKZNm0YwGDyftYqIyAXmjCHzYZB8qLy8nHvvvfe8FCUiIhcHzV0mIiJpo5AREZG0UciIiEjaKGRERCRtFDIiIpI2ChkREUkbhYyIiKTNGa+TuRi0kcOTib/KdBkZUZwq5W8yXYTIeXLALufpS/Tfek1qLA9kuohPcFGHTJcdYHHqhkyXkRGjU9kKGblkHLcLL9l/67OtoiEdMmouExGRtFHIiIhI2ihkREQkbRQyIiKSNgoZERFJG4WMiIikjUJGRETSRiEjIiJpc9LFmKlUimXLltHV1YVlWeTn5zN+/Hiqqqpobm5m5cqVxGIx8vPzufrqqykuLsYwjEzVLiIiQ9xJIWNZFnv27KGlpQXLsojFYjQ3NzNnzhzWrVvHihUryMnJIRQK4Xa7mTlzJjk5OZmqXUREhriTQsbpdPLVr34Vl8uFbdv827/9Gzt37sTn8/Haa6/xpS99idmzZ/Mv//IvvPfee5SXlzNlypRM1S4iIkPcSX0yhmHg9Xrp7e3l+PHjhEIhnE4n4XCYhoYGrr32WpxOJ9dddx2NjY00NTWdskPbtunv76etrY2Wlhb6+/uxbfu8HZCIiAwdp0yQaVkW3/rWt3jxxRcZO3YsX/rSl8jNzSUQCOBwOAAoKioiHA4TDodP2WEikeC5557jd7/7HV1dXYRCIR5++OH0H4mIiAw5p4wuM02Tf/iHf2DVqlXceuut7Nq1i8bGxrPeocvl4i/+4i945pln+NOf/sRdd91FVlbWoBYtIiIXhtNO9Z+Xl0dOTg7jxo0jFAqxd+9e+vv7SaVSOBwOOjs78fl8eL3eUx5rGAZ+vx+/3w+A3+/XCDQRkUvUwJmMbduEQqGBMLEsi66uLnp7eykuLqa0tJSNGzeSSqVYu3YtJSUllJSUZLJ2EREZ4gbOZGzbpr29nVdffZVwOIxlWbS3t1NVVcU111xDdnY2v/3tb3nrrbc4dOgQCxcupLq6OpO1i4jIEDcQMoZh4PP5cLvdhMNhDMNg4sSJTJs2jdGjR5Obm0s0GiUSiTBjxgyuvPJK8vPzM1m7iIgMcSeFTGlpKV/+8pdPu+GoUaP4xje+MWhP/OHFnslkctD2ecpzxCJMKz+13+hSUJHrJBQKfep2DocDr9eLaWqGIREZfKft+E8327aJRqN0dXWRSCTS9jxmyuJr15Smbf9Dmctp0tHR8anbORwO8vLyyMrKUtCIyKDLWMi0trbi9/spKirC7Xan5XmiiRRRz6d/m78YeV0OqkuyP3GbZDJJT08PbW1tVFRUpO19EJFLV8a+usZiMbKzs/XBlkFOp5Pc3Fzi8bhmZRCRtMho+4iun8k8vQcikk5qhBcRkbTJSJ/MUPXO8mXYts24iZMpLa9g7+6drH/3bcqGVbLgljsAWLniNWKxKE6ni5G1o8nyBzh0oJ7s7CDjJ2lGahGRj9KZzEf0hXrZsWUzrc1N2LZN8/FjvPvWcjavWz2wzYY179La0kRWwI/P78fj8ZCXn092UOvqiIh8nM5kPmLUmHFsWrea7s4OotEIsVgUh8NBf38f8VgMh9NJw6EDlJaXgw2pZJKUyyIei+N0ukgmk6x+ewWB7CCh3h7C/f2UV1RSM3acQkhELkkKmY+oHF5NJNxPT3cXbc1NRCMRqkaOwuFw0tLciM+XRSTST1dnB+9tXEciEaewqIS1K9+kpLScsmGVLH36N1RUVeP1+ujq7CC/oBDLtph21TWZPjwRkfNOIfMRgWCQ7Jwc+vp6OVC/l3C4n3GXTaavL0Tdjm34AwGKS8sJZAeJx2Jn3E9Wlp+77/8rkskEr76wlO3vb1LIiMglSSHzMVXVo4j0h6nbsZUsf4DJl19B0/FjbH9/M/5AgMqqagLZQTpjbWfcx2VTp5GTm4dpmrjdHkI9PefxCEREhg51/H/M8JGjiETC7KvbTTQSYWTtWCoqq6jbuY1d27cybHg1gcAnX0nvcrowTAPDPHENim1b56N0EZEhRyHzMVUjRtHV2U5bSxO+rCzcHg8+v5/enm727t7BsKoRBLKD57BHG11LLyKXKoXMx5RWDMMwTLy+LIpLyzEMA7fbQ1n5MJxOF7l5BbhONxWOrpwXETmF+mQ+xuv1cce9n6O/L0TViFEA5Obl81d//TV6ursoKSsnmJNDUXEJOfn5tDQ2kkgk8H6wFs9fPfJ1qkaMwuv1gWFw3YKFaV3OQERkKFPIfIxhGEyYPPWk27w+H5OvmD7wd38gQGFxCUePHGLbexvp7+9jRM1oHA4nV14966TH1owZd17qFhEZik5afrm/v59169bR0dGBZVkUFxczZswYKioq6OzsZPXq1fT19eH3+5k+fTqlpaU4HI5M1p9RVipFbn4BhcUlDB8xMtPliIgMOSeFTG9vL2vXrqWtrQ3LsjBNk6uuuop58+axZcsW/vCHPxAMBunr6yOZTHLddddRVFSUyfozqmpkDVUjazJdhojIkHXS8ssej4f777+f8vJyXC4Xv/jFL9i0aRO5ubm88cYbLFiwgPvvv5+XXnqJDRs2UFZWdkmHjIiIfLKB0WWGYVBQUEBtbS1+vx+n00l+fj5ZWVk0NDRQV1fHwoULcblczJkzh8bGRhobGzNZu4iIDHFnHMLc1dXF/v37icViVFZWEgqFKCoqwjAM8vPziUajRKPR81mriIhcYE47uiwWi7F48WJ6e3u54447SCQS2LY9sIrix///UYlEgpdeeomXXnqJnp4ejh07xqJFi9J4CCIiMlSdEjKpVIrFixfT3NzMtddey7Rp03j//fcJBAJ0dnaSl5dHT08PHo8H92kuSnQ6ncycOZOamhqSySSLFy8+7XYft/S9Yyx979jgHNUHLNvGsmz+/qaxeJznft1pXyjEprWrWPbiUj7/8NcZO2Ei5jmOpgv397Np7SqOHNrPg1/56jnXICJyITspZGzbZunSpdTV1XH11VdzzTXXEAgEyM3NZeTIkaxcuZJbbrmFDRs2UFxcTHFx8Sk7NAyD0tJSSktLAVi2bNlZDXM+1hVm/cGOQTqs/5LldpCy/ryJXVpbmtj2/kaONRxh7btvUTN2HO5zDJlkMklbSzOHD+w/p8d9OLpPRORCNhAylmVx7NgxnnrqKeLxOF6vl9bWVoYNG0Z1dTXXXXcdy5YtY//+/Rw+fJgrrriCmpqLe/hu0/GjtLU0c+28G9i0dhX3PfgQLpebSDjM5vVr6Opow+Fw0hfqpaiklGvn34TT6aSzvY1N61bT0d6Kz5fFsYbDA/tMJBK8t341jUePEotFqaisYuxlk/AHsjl8oJ49u3bgdrvo7Ozgtrvv4/ixBg7vr6cv1Etufj5jJ0yielRtBl8VEZGzd9KZTCqVYtq0aQB4vV5CoRDhcJicnBxmz55Na2srPT091NTUMHPmTMrKyjJS9PkQ7u+jvaUZl8vNZ+YuYP2qdzh29AijascQDvezcsUyerq7mDh1Gu1trdTt3M6ImtFUj6rl3TeXc7B+D263B8M0aDregD9wYg2aA/V72bJpA263m1TK4r0Na0mlUtSOm8DOre/z8h+XMPfGW4jHohw5dIC6HdsI9fZgmiZtLc10dXRQXFZOVpY/0y+RiMinGggZ0zQZMWIE3//+98+48d/93d+dl6KGgqbjx+ju6qR6VA0lZeVMuvwK3lu/mrKKYQDEYzEqKqu47S/up7O9jaW//Q07tmymbFglby57mRtvv4vPzF3A4QP7eWnpM1gpi/7+Pla9+TodbW3MmjuPrCw/r730R/bu3kFxaRmpVBKny8Xt936O/IIC/vjMf9Bw+BBjxl9GReVwtm7eyI4t73HNddcPzKsmIjKUae6yMzh0oJ7jRxsYM24CzY3HKCkrZ+3Kt7hu/kI8Xh+BYJDS8gry8gsI9/dRVFJGR3s74f5+IuF+SssqCObkUlE5nBGjajmwby+xaJQ9u3bQ29NzoqnN6SQWizGsagTxeAxflp+qEaMoKCw8UcP+fRzav5fGo0fweL0kkwmKSsuIhsMZfnVERM6OQuY0kokERw8fYu07b7Jl0zpMw8SyLFqbm+lob6W4tBzTdAx0zBsYGIZBKpXCMD74s5XCsixSqdTALMyGYeD1ZXHjbXcz87q5+APZWNaJBc062lppOHQQt+e/RuI5HE7m3ngrs+bMo3xYJbZtnzSUXERkqFPInEbD4YNEIxHueeAL/OUXvoIBxKJRfvqD/5u9u3fidntP+zjDMAgEsvFnBzl6+BCjRo/j0P597Nm1HZ/Pj8/nY+KUy3nj1RcZP2kKWf4AXZ0d2LZFPBE/ZX/jJ01h45p3GTa8itLyCsL9fYRCveTlF5xYSkBEZIgbMiHzV9dUc/uUikHdZyxpcaSjH5/r3IYd7929k1Qqyehx4/F4PACYDpOrZ89h7cq3qKisOvODDVj00N/w8h+X8Pbrf6KgqBgrdeJsJZAdZP4td9DW2sJP/p/vkIjHcXs8zL3xFqZ8ZCmBD82aM5+erk5eXvp7nvn3f8XpdDJ24mQe/PLfnNPxiIhkypAJmbwsN3lZn37R5rmIJlLEk6lzftwVV89i4tRpBHPyBm5zOJxMn3kto0aPo6ComGHDq/H6TpzRFBQXc+Ptd2Hb4HK6GD9pCrn5+UTCYbxeL4Zp4nA4MB0O8gsKufv+B+np6iKVSuFwOCgsLiEnN4+Z111/0ro1gexs5t54C1OvnEEsFsM0TbKDOXh0FiMiF4ghEzJDSVFxySm3GYZBbl4+uXn5AAP/B/B4vJRVVA783ZeVxajRY0+7b9M0qaisOu3ZkMfrpfBjz11UUkpRSemfdRwiIpmmS8pFRCRtFDIiIpI2ChkREUkbhYyIiKSNQkZERNJGISMiImkzdIYwb/wlbPzVoO7SY9vUGj4O3PwslivrnB778tLf8+oLS3G7PZimgcvt4YGHHmHMhIl4PKe/4l9ERE42dEIm3AHt+wZ1lwbgdgUwsM75sT093eTmF3DHvZ/Dl5WFaTqorB6By/VfF4za9onF0DSXmIjI6Q2dkBmC8vILmDB5KoHs4MBt//r//U9y8wuIx2KUlldQWjGMhkMHOHr4EFYqRXllFXNvvJlgTi5r3n6DpsZjGIZBa3MTHq+P+QtvpWJ4NV2dHbz7xus0Nx7DtixG1I5h5nXX43Z72L1jC+9vXE8iHqegqJjpM2dTNWKUwkxELjjqk/kERw7u5/klT/OHp/+dF//wDIlEgjeXvUJ93W5cbjc5uXl4PF6ysgIUl5SRX1jE1vc2cGDfHiLhMPV7d7N53Ro62tvIDubQ2d7KG6++TDKZZNt7GznWcBiP10tRSSmB7CCJRIKm40dZ9fYbBHPyKCop5XjDYeq2b6WjrTXTL4eIyDlTyHyCeCxGd1cn3Z0d9HR3gm2TSiUZOXoMN9xyB9Nnzqa0vIKiklJyCwrIycujpamR3Tu2Egr1AJAdDDJ52nTu+OznmDZjJmtXvkkqmaSjtRXLSjG8eiTXXHc9l0+fAbZN3c7tbNu0Ab/fT25eAeH+fur37Ka58XiGXw0RkXM30FxmWRZ79uyhvb0dwzAYPXo0JSUlWJZFd3c3+/fvJxaL4fV6GTt2LIFA4KJvvqkdN4EvPPJ/nNRc5nA4qR5ZQ25+AbZtc7zhCG8vf5Xuzg4sy6W9n7kAAB/xSURBVKI/FKK9pYV4LAacmHusfFglHo+XgsJiurs6sW2bcRMncfxYA7u2b6W7q5ORtWMI5uRy7Mgh4vEY729ch8PhIJVKEczNxf3BbNAiIheSgZCJx+P89re/Ze3atXR1dfHYY49x9913EwqFWLNmDb/+9a9JJBK4XC4effRRpk2bRlbWuY3Yuhg4nU4cDgeGYZBMJNhbt5MD+/bw2P/7M7L8Af71iR/hdDqxrRODAkzTxGE6wDAwTAPLOjEr9NjLJlFWMZz9e3fz5muvsHv7VmbOmU8wN48pV1zF3zz6LXxZWdi2jWVZmObFHegicnEaaC5zuVzcfvvt/OQnP2H8+PEDG9TV1bF27VruvPNOnn/+eebNm8crr7zC0aNHB7cSpxc8wUH/sdzZ2INb6YCUZWHbNk6XC4COthY2r1tFJNz/qY9taWzENE0mTp3GNddeT2FxKYlYlOqRo9iyaT2Nx4/SF+qls72N1uZG+kKhNB2FiEj6DJzJOBwOrrjiCpqamnB98KEJcPz4cY4fP87Xv/51nE4nt99+O3/9139Ne3s7Y8aMGbxKZvwNXPnQ4O0PiCVT1Lf2Ybn8g7rfD3k8HmrHjGPrxvX8zaJ7yM0voLJqJO6zuI5m8/o1vPnaK3R1tuP1+rj6M3O45trrsbG5+/6/4h+//X+SiMcxHQ4W3HoH8266lWBOblqOQ0QkXU4awvxhM9BHRSIRwuEwxcXFmKZJaWkpPT09xD7ocxi8SjwnfgaRbaawXJ++3encevd9JBMJsvyBk27/0b/8hvzCooG/146dwFf/r+8QjURwOB04nS6cLhfZwRzu+OwDYNsEsoM4nE5Gj53AE79+Bq/Px5wbbmb6zM+QSqYwTZOsQIBA8ETfz/yb7+CqWdeeaHIzIDs7iP8j/UIiIheKT71OxvqgScjhOLGEscvlwrLOfHFjMpnkrbfe4u2336avr4+dO3dy5513Dl7F50lObt5pb68YfvJiYx6vlyLv6RcV++jCZh9uO6xqBADBnByCOTmnfVx2MEh2UKEiIhe+Tw0Zt9uNy+UiFAoRCAQIhUL4fL6B0Pk40zSprq5m9uzZxGIxQqEQTqeu+RQRuRR96qd/fn4+BQUFbNu2jRkzZrBhwwaGDx9O8AzftE3TZPTo0YwePRqAnTt3KmRERC5RA5/+yWSSdevWUVdXx+HDh1mzZg2FhYVkZWUxbtw4XnnlFY4dO8aGDRuYOXMmpaVad15ERD7ZwBDmVCrFxo0bWbt2Lbm5uTQ0NLB+/Xr8fj+zZs0ikUiwfPlyXC4X119/PUVFRZ+0XxERkf86k/F4PDz66KNn3HDKlCnnpSAREbl4DJnOkoSVIJ6KD+o+Y0mLaCqC1+HlxMT/51BPIoFtWbjcJ6b2TyWTAxddfppoJIzL7cE0TVKpJNic9WNFRC4mQyZkntr1FL/e+etB36/b9PE/ZzyN13FuU+A8v+Rpmo4f5fMPf51wf5jN697lptvvOauw+Orn7+Phb/w9Y8ZPZOWKZSSSCe787AN/7iGIiFywhkzIxFIxQvHBnzrF57QGFhc7F/F4jFg0SjKZpLW5kWUv/pF5N99+ViET7usjlUzi9/uZff0N2Gmb2EZEZGgbMiEzVLU0NfLq88+xZ+cOfvzdb1E7bgKz5s5n9/atbN+ymXgsRmFRMdfOv4kx4y876bHhcJi1775FMpnghlvupOHwQV549nckEjFsG66ddwMTp1yBz+9n59b3eOv1PxGLRjANk3k3386ESVOJx2Msf+UFmo8fw+ly0dXZSWVVNZ998Eu43G42rl3FxtUr6e7qJDsnh2lXXcM1115PU1MLL//2xIjAZDLJnDlzmDVrFsXFxRl6JUXkUqSQ+RRZfj9VI0fhz85m2oyZlA2rxO8PUDasEtM0T5zpNDWy7IWljB434aRpeZKJBEePHCIRj2MYBln+AJOnXYlhGHR3d7F53Rr8gSCXTZlKXkEhE6deAbZNqLeHF5b8lmHDq3E4nezY8h6JeJzPXL+AYE47e+t2UrdzGxMmX87yl59nePVIRo+bgNPlpqikjK6OdjavXYVh28yaNYtYLMaqVasIBoPMmTPnjBfSiogMNi1a9ikC2UFGj59ITk4u192wkKlXziCYm4fD4SQWi9LT1UnT8WNs3bSeSDh8xqY5wzRxupxYlkVXZweh7m7e37iOpuNHMYwTywFYqdQHC6R1sXHNu3R2tGOlUhiGQcXwKj4zdz5Xz55DTk4e++p2YVkpujo6SCQSFBSXMG7iZKpH1tDR1sqqN5dz+PBh2tra6OzsZOvWrRw8eJBwOHyeX0ERuZTpTObP0NbSzJaN6zjWcIRAIEB/X4h4PE5/XwjfGdbYCff3sWfndtavfoe8vAJM06S7s4NYNEJPdxe7d2xl8/o15OTkYlkpEokE/X0hcnLzyMryk19YRCA7SE93F7n5+YR6erBtmD3vBpqOH2Xbexs5cnA/tWPHk0pZNDcdp3pYKY2NjRiGwfTp06murj7Pr5SIXOoUMp/CMIwTQ5E/WGwM4MDeOlqaGrl8+tV85vr5bFi9kkMH6kkkk3CGM5mujg62bd5IcUk5X3jk64R6e9iyaT2WZdF8/BiHDtRTVlHJooceoaO9jeWvvICVSmHbNoZpYn7QDGd88J9lWWDb3HDbnbQ0NrJvzy7eef1VGg4fYs6ChZRVVHDXXXcxa9YsnE4nkUgEp9N50jIOIiLpNmRCJs+bR3VwcL9p24BpezCMP79V0OFw4MvyYVsWTceOkpuXTyqVwuV2E42GOVi/j7od2+nv++SRcYZp4HS6ME2Dlqbj7NjyHp0dHQP3uZwubMviWMNh9uzaQXdXJ6lPmO0aTqyYefjg/hNLYk+YyMF9e4lGwgSyg4waPZ6XXnqJsrIy3G43jY2NVFdXU1FR8We/FiIi52rIhMxfjv1L/nLsXw7qPqOJFPta/rxh0U6nC5frxNowBYXF1IwZx2OPfpVJl1/Brffch9frZelvF+MPZJMdzGF49ciBsw2P14tpmmCcWBoB26aouJQrrpnJz37wXd5983UmT5uO2+PG7fFSPbKWIwcPsOQ//o3Vb6+galQtw0eMwuPxYhgGLrd7YOi0YRg4XS4sy8SyLX6/+Jccqt9LMpFk1Jhx3HTH3YyoqSXgz+KFp37B5z//eRKJBCUlJXzzm99UyIjIeWXYf85FJOfg8ccfp7i4mK985SsDt1mWRX19PdXV1Xg8g7tQ2Uf974RMPBbDslJ4vD5s2yYaiWBZKRxOJ263m2QiSSJxYtSYYZjYto0vKwvTNOkLhfB+sBxCPBYDbNweL6lUimjkRMe7w+kklUzi8XhxulwkE4mBheAcDpNUKoXXd2J/8VgM0zRxezxYlkUiEQcb3B4P0UiYVOpEU57pcOB2nQgklwnDc1wkk8kT95kmXq/3lOay8/VenC/v7mvjwX/fmOkyMmL26CKe+uL0TJeREXrfM/e+f+1rX+P666/njjvuOO39Q+ZMZqhxf+QD98Tw45OXcHY4nHi8p19mOZCdPfDnj27jdDoJnGGFS5fbPTCFzcd5fb6BP5umiecjyzv7sk6/tLTD4cDvT8+y0yIiZ0tDmEVEJG0UMpe4NLeWisglLmMh43Q6iUajA/0Jcv5ZlkUkEsHhcJw0U4GIyGDJSJ+MYRgEg0EikQipVCpt05zEkhbR/v607Huos5wmPd5PGgJ9ImSi0SjZ2dknRsOJiAyyjIVMXl4eXV1d9Pf3p63JpjeaYMPetrTse6jL9jrJd33yZJiGYeB2u8nPz9d8ZiKSFmcdMpZlEQ6H6ezsxLIs/H4/wWDwzx726nQ6076E876WED9ZuyetzzFUjS7J5vMLhme6DBG5xJ11G0l/fz+vvfYad911FzfffDPf+9732L17tzqORUTkjM4qZGzbprm5mR/96Ef80z/9E8uXLyeZTLJx40Y6OzvTXaOIiFygzipk+vr6OHjwIAUFBYwdO5aysjKuuOIKenp6OHjwYLprFBGRC9RZ9clEo1Ha29spLy/H+8G8XBUVFTQ1NdHV1XXStslkkpUrV7Jy5Ur6+vrYuHEjWVlZ7Nlz/vtG+mNJggc7zvvzfigSiWKaRkamawl5nHzz6Avn/XkzraM/TrCh69M3TJNwOIzT6cLtPv+zXR/d7+GbO5ec9+cdCvS+Z+5937BhAzNnzjzj/WcVMifmy0rg+8j0Jm63G8uyBubG+tCHAXTllVcSi8WYMmUKhmGc9Njzaf6cjDwtAC+99BLBYJDrrrsuc0Vcgm7N4HM//fTTTJhQw+WXX57BKi5Net8zY8qUKZ943GcVMg6HA6/XSyj0X5NNhsNhHA4H7o/Nt2WaJmPHjmXs2LF/ZskXjz179lBcXMw999yT6VLkPFm5ciXTp08/42SBcnHS+35mZ9Un4/P5KCkp4dixY4RCIZLJJAcPHsTr9VJc/MnXYoiIyKXrrEImKyuLqqoqvF4v7777LmvXrqWuro6SkhKGD9e1GGeSk5ND9kdmZJaLX35+PllnWIJbLl5638/srJrLDMOgpKSEr33ta/yv//W/iEQizJo1iyuuuILc3Nx013jBuuqqq/SLd4mZM2eOvnhdgvS+n1naFy0TEZFLl2ZFFBGRtFHIiIhI2ihkREQkbRQyIiL/GxKJBJb1yWs3Xcoysp7Mxa6lpYWuri6Ki4vJzs4mFothGAZ+vz/Tpckgs22bZDLJgQMH6O3tJZlMDsxMXlJSQk1NTYYrlHRIJBI0Njby9ttvEwqFuO2228jPz+fQoUM4nU7Gjx+f6RKHDIXMILIsiz179vD+++9TX1/PwoULueyyy6ivr6erq4u5c+dmukQZZP39/axevZpdu3ad8o12ypQpCpmLVCgU4sUXX6S+vp7Vq1czZcoUAoEAGzZsIJlMKmQ+QiEziOLxOIsXLwZg/fr1TJw4kYkTJ1JXV8eGDRsUMheh9vZ2fvKTn3DVVVdRU1OD1+sduC/di/JJ5nR3d/P888/zm9/8hqNHj+J0OikoKCCRSNDS0pLp8oYUhcwgSqVSrF27lsWLF9PX14fD4cDn8+HxeIjFYpkuT9LAsixisRiPPvooubm5GIaR6ZLkPDAMA6fTSTAYxOFwYNs2kUiEVCqFy3X+Z2IeytTxP8g+OmGobdvEYrGBPhm5+Hi9XiZOnEh9fT3hcJhUKjXwo87gi5fL5aKkpIStW7cSiURIJBK8/fbbHD58mJKSkkyXN6Toiv9BFIvFeOKJJ+js7OTdd99lxowZuN1u2trauOGGG7j33nszXaIMsgMHDnDXXXfR3t5ORUUFfr9/4AvFzTffzKOPPprhCiUd4vE4Bw4c4Mknn2T58uUYhkFtbS333HMPt9xyC4WFhZkucchQyAwi27ZpbW1l06ZNrFq1imQySUVFBZMmTWLatGnk5eVlukQZZH19faxdu5ZYLIbb7cY0/6txoKKiQh3AFynbtkkkEhw/fpze3l4sy8Ln81FUVEReXt5JvweXOoXMIIvFYvT29tLZ2Ulrayt9fX2Ul5czceJE/eJdhCzLIhwOs3//fpqbm7nsssvw+XxEIhG8Xq++0V6kuru7WbZsGTfffDNZWVk888wzbNy4kdraWm666SZGjx6d6RKHDH3qDaJYLMaTTz5JIpGgvLycw4cP884777B8+XLefPPNTJcnaRAOh1m5ciWvvPIKzz77LJ2dnTidTrZt28a6desyXZ6kSW9vLy+++CK2bVNfX8+uXbsIBoO0tLSwdu3aTJc3pChkBlEymeSFF14gFApx4MAB9u7di8PhoK+vj3feeSfT5UkadHd389xzz1FcXMyBAwcIhUK43W4OHjzItm3bMl2epEkikaChoQGn08mGDRsoKCjg7rvvpqysjCNHjmS6vCFFITPIbNumr6+PNWvWUFRUxH333cfkyZPp7OzMdGmSBrFYjAMHDnD//fdTXFyMaZp4PB5M0ySZTGa6PEkTp9NJfn4+K1asYNWqVYwcOZKKigpM09RI0o9RyAwi0zSpqqpiy5YtbN26lcLCQsrLyzEMA5/Pl+nyJA2cTidFRUUcOXKEaDRKZ2cne/bsobe3l2AwmOnyJE2ys7O58cYbefbZZ0kkEtTW1uL3+8nPz2fYsGGZLm9IUcf/IEqlUmzZsoUlS5ZQWFjI7bffTnl5ORs3bqS5uZlFixZlukQZZF1dXSxZsoT9+/ezevVq5s6dS2dnJ9nZ2dx5553MnDkz0yVKmti2TXt7O263G4fDQTKZJBwO43a7NeDjIxQyaXCml1Sn0RenZDLJqlWrePfdd+nr62PChAnMnj2bkSNHZro0SaNkMsnmzZs5evQo0Wh04N99TU0N11xzTYarGzo0rcwgsiyLhoYGlixZwr59++jv7x/4xZs8eTLf/va3M1yhpINpmlRXV5NMJqmtrSU3NxfTNInFYng8nkyXJ2nQ3NzM448/zqFDh6iqqsLr9Q58ifzo/HWikBlUsViMxx57jNraWubOnUtWVtbAL15xcXGGq5N0CIVCvP7667z88su0tLTw+OOPk52dzZ/+9Cds2+aBBx7IdImSBuFwmG3btvHTn/6U/Px8HA7HwH3Z2dkZrGzoUcgMIsuyOHToEF/84hcZN27cSfOYadK8i1N3dzd//OMfuf/++3niiSeIxWIEAgG6urro7u7OdHmSJg6Hg4KCAioqKigpKTkpZORkCplBZJom48ePp6+vj2Qyid/vH7jKX7+EF6cPF6+69tprWbx4MaZpDkwvoyHMF7dkMsk//uM/Ultbi8/nG/i3Pnr0aD7zmc9kuLqhQyEzyKLRKEuXLuX9998nJydn4Bdv+PDh3H777RmuTgaby+WioqKCbdu20dfXR3NzM6tXr6a1tVXryVzEPpx9u7m5mcbGxpP6ZNQ0fjKFzCAyDIPCwkKi0SgtLS0nLV6kecsuTh9eL7Fp0yYsy2LLli1YlkV2djZXXnllpsuTNMnNzT3jJQm5ubnnuZqhTUOY0yAajQ4sYPThy+t2u8nJyclwZTJYYrEYfX192LZNMBjkjTfe4Nlnn6W9vZ3q6mpuueUWZs+ejd/vz3SpkgaWZdHX18fRo0cJh8NYloVt2xiGQXFxMSNGjMh0iUOGzmQG0YdTyuzdu3dgCHMymcSyLEaMGMHChQszXaIMkqNHj7J27VoCgQB33XUXCxcu5D/+4z9ob2+nvb0dwzDIycnR9RIXqXA4zDvvvMOvfvUrNm/ejMPhGFiobtGiRfz4xz/OdIlDhkJmEMXjcZ588klWr15NXV0dI0aMIBaLEQqFuOeeexQyF5G6ujrWr1/PY489NnBbMpnk+9//PhMnTmTp0qWsW7dOIXORam1t5cc//jE///nP+fa3v83f//3fY9s269ev10W4H6OQGUTJZJLly5fzwx/+kH/+539mzpw5zJ49mxUrVnDo0KFMlyeDyLIsHA7HSZ37l1122cCQVp/PR39/fwYrlHQzDIOqqiqcTiemaTJt2jR27tzJvn37Ml3akKKQGWSpVIr8/HyysrLweDyUlpaSm5tLV1dXpkuTQZRIJIhEIicNTf/yl79MQUEBDoeDWCymkLmIGYYxMJvD8OHDefPNNwfWldGowpMpZAaRaZqMGjUKy7KYNGkSa9euZf369YTDYUpLSzNdngyiQCCAy+Viw4YNXHXVVQADs+/W1dXR0dFBQUFBJkuUNMrPz+fhhx/G4XBw//33s27dOurr6xk1atTA74OcoJAZRE6nk9tvv528vDyuv/56srOzOXbsGHl5eUydOjXT5ckgGj16NJMmTeJ3v/sdW7dupbS0FNM0aW9vZ+/evQSDQc3AfBHLzs5m/vz5eL1epk6dSiAQoKOjg+LiYoYPH57p8oYUhcwgsm2b5uZmTNOkpqaGsrIy+vv7cbvdGjt/kamsrGTOnDn09/dz6NAhmpqaMAyDWCxGMBhk1qxZTJo0KdNlSprYtk08HmfNmjV0dHSQSCSwbZsDBw7Q0dGhLxgfoZAZRIlEgueff54ZM2aQnZ2N3+/XdRIXKZfLxdixYxkxYgR79+6lsbERy7IoKiqipqaGvLy8TJcoadTX18drr73Gzp07efvttykrKyOZTBIKhbj55psVMh+hkBlEpmlSVFTEqlWrCIVC5OTkDEw1EQgEqK6uznCFMtg8Hg+TJk3SWcslprOzk1//+td873vfY8uWLXzpS1/C5XKxefNmrYz5MQqZQWDbNpZlYVkWLS0t/OhHPyInJ4dgMIjTeeIlvvLKK/nRj36U4UpFZDDYtk0qleLyyy8nEAjg9/uZMWMG+/fvp76+PtPlDSkKmUEQi8Xo6uqipKSEX/3qV6RSqVNWwfT5fBmqTkQGm2EYuN1uLMuioqKCVatW0dTURF1dnfpfP0azNg6CXbt28d3vfhfTNKmoqGDx4sWEQiEqKysHfjR2XuTiUVRUNHCV/yOPPILD4WDFihVUVlZy7733Zrq8IUVnMoMgHo/T0dEBnBjGvH//fiKRyEBTmYhcXLKyspgxYwY+n4+RI0fy4IMPEg6HCQQCuj7qY/QpmAbxeBzLsjJdhogMsvr6eo4cOcKUKVP4zW9+c0qzOMDEiRO54YYbMlDd0KSQGQSxWIzdu3fz2GOPYds2u3fv5le/+hXLli0bmOq/traWBx98MMOVishgOV3AyKkUMoOgtLSUBQsWEIlEAFiwYAEOh2Pg73Di7EZELmzl5eXk5uYSDAa54447TrtNMBg8z1UNbVq0TETkLDU2NlJXV/eJZzHl5eWMHTv2PFY1tOlMRkTkLO3evZt//ud//sRt5s2bp5D5CJ3JiIicpf7+/k9dtsPv92taoY9QyIiInINP+8jUgICTqblMROQcGIZBNBpl69at/OxnP6O+vp5IJEIqlcLhcPDZz36W7373u5kuc8hQyIiInKP29naefPJJPvvZz/LEE0/w0EMPYds2dXV1Wk/mYzStjIjIOYrH4xw5coSZM2eSl5fH5MmTuffeexk7diyhUCjT5Q0pOpMRETlHH06Q6fP5KC4uZseOHcTjcRobG/F4PJkub0hRyIiInKNAIMD8+fMxDIMFCxawZ88empubcTgcXHbZZZkub0hRyIiInKNAIMDcuXNxuVzcfPPN5Ofnc+zYMXJzcxk/fnymyxtS1CcjInKOQqEQK1aswDAMfD4fc+fO5cEHHyQ7O5tdu3ZlurwhRSEjInKWUqkUkUiEpqYmXnnlFTo7O+np6Rn42b59O9u3b890mUOKmstERM7SkSNHeOWVV3j11VfZv38/jzzyyMC6UdFolFgspmn+P0YhIyJylgoKCpg5cyY+n4/e3l7uv//+gdFkbrebkpISqqurM1zl0KJpZUREzlIqlSIWi9HX18fx48epqqrCNE/0Opimicfjwe12a2qZj9CZjIjIWVq3bh1PPfXUaUPEtm0Mw2DWrFksWrQoA9UNTQoZEZGzlJOTw+jRo88YMgAlJSXnu6whTc1lIiKSNhrCLCIiaaOQEQEOHDhAfX09PT09A7dFo1F27tzJwYMHicfjf9Z+I5EIR48eJZVKfeJ20WiUXbt2fep2IhcahYwI8Ld/+7c88MADrFixAjgximjv3r0sWLCAv/3bv6W5ufnP2u++ffv46U9/Sn9//ycudnXo0CHmzZtHOBz+s55HZKhSx78I4PF4aG9vp6WlhUQiQU9PD9u2baOkpOR/azjqxIkT+eEPf4jL5dKwVrkkKWREODF1e21tLZZlsXfvXhwOB5s3b+bGG29k9+7dALz00ks0Nzdz5ZVXMnXqVN5//31+8Ytf8J3vfIcNGzbwyiuv0NPTQzQaxefzccsttzBp0iR+/vOf88QTT5CTk8M777zDCy+8wNGjRykqKuKmm27itttuO6mW3t5efvazn1FcXMxNN92ki/vkgqaQEfnA5MmTAdiyZQsjR46koaGBBx54gL179wInPvw7OjqIRCLAif6WY8eOYVkW11xzDaNGjSIWi/H73/+eSCTCyJEjB/pkEokER48eZfny5XzmM5+hsrKSrVu3snfvXrZs2UJWVha2bdPd3c0vf/n/t3PHLI0EYRjH/1kNwV3NisYEWeMSCciiIEREULCw0VoUxMbGT2Nvc59BsLRQIRgiGIJJRIyghQhitQgWGjFmr/AMF644OG7vuOP5tS+zMNM8zL4z84V4PM7MzAzJZPKvrYfI76CQEfnGdV0ikQiVSgXDMHBdl3g8/tNxhmEwPDyM4zgcHBxg2zazs7NMTU1xcXEBQKvVolKpUCqV8H2fVCrF3d0dQRCQzWbxPI+Xlxe2t7cZGRlhcXERz/MwTTPsaYuESiEj8o1lWfT19VEoFDg9PWVhYaGj/tlT+WzgB0HQcRqsXq+Tz+dJp9PMz88zMDDQrrVaLR4eHkgkEoyOjpJMJnEcp+Ny3/v7O5eXl2QyGVKplAJG/gsKGZHvjI+P43kej4+PTE9Pc3193a5ZlsXr6yvPz880Gg183+fp6YkgCPB9n729PUzTZG5uDtd1O777uduxbZulpSVyuRxBEPD29gbA7e0tsViM1dVVbm5uqFar9PT0MDg4+EfnL/K76QizyHcymQwrKyusra390A9xXZdms0m1WqVQKFCr1Wg0GjSbTU5OTtjf38eyLHzfp1wuc39/3x5rGEY7WMrlMvl8nuPjY87OzvB9H/h4xXdjY4NsNkuxWKRUKnXc2xH5F2knI8JHgPT392OaJhMTE8BHY7+3txfXdYlGo0xOTlKr1Tg8PKRer7d7L11dXZyfn7dPjxWLRYaGhlheXsZxHMbGxohGoyQSCTY3N9nd3eXo6IhIJEIul2N9fZ1YLIbneXR3d7O1tcXOzg5XV1ek02ls2/7LqyPy6/R2mYiIhEa/y0REJDQKGRERCY1CRkREQqOQERGR0ChkREQkNAoZEREJjUJGRERCo5AREZHQfAUqGIBiG46V2QAAAABJRU5ErkJggg==)"
      ],
      "metadata": {
        "id": "jsx1aCsVmw73"
      }
    },
    {
      "cell_type": "code",
      "source": [
        ""
      ],
      "metadata": {
        "id": "ygCr7u5FmvpZ"
      },
      "execution_count": null,
      "outputs": []
    },
    {
      "cell_type": "markdown",
      "source": [
        "## Labo 2 - Survey\n",
        "\n",
        "Load the data file data/survey.csv. It contains the result of a survey of students from an Australian university.\n",
        "\n",
        "We want to investigate the relationship between some discrete (nominal or ordinal) variables in this dataset. For any pairs of variables listed below, follow these steps:\n",
        "\n",
        "* First, think about what exactly you expect for the given combination of variables.\n",
        "* Make a frequency table for the two variables. The (presumably) independent variable comes first.\n",
        "* Plot a graph visualizing the relationship between the two variables.\n",
        "- Looking at the chart, do you expect a rather high or rather low value for the $\\chi^2$ statistic? Why?\n",
        "* Run the $\\chi^2$ test to determine whether there is a relationship between the two variables. Calculate the $\\chi^2$ statistic, the critical limit $g$ and the $p$ value, each for significance level $\\alpha = 0.05$.\n",
        "* Should we accept or reject the null hypothesis? What exactly does that mean for the relationship between the two variables? In other words, formulate an answer to the research question.\n",
        "* Calculate Cramér's V. Do you come to a similar conclusion as with the $\\chi^2$ test?\n",
        "\n",
        "\n",
        "The variables to be investigated:\n",
        "\n",
        "| Independent variabele          | Dependent variabele                        |\n",
        "|:------------------------------ |:-------------------------------------------|\n",
        "| `Exer` (practicing sports)     | `Smoke`                                    |\n",
        "| `Sex` (gender)                 | `Smoke`                                    |\n",
        "| `W.Hnd` (dominant hand)        | `Fold` (top hand when you cross your arms) |\n",
        "| `Sex`                          | `W.Hnd`                                    |\n",
        "\n",
        "Results of the main calculations (rounded up to 3 decimal places):\n",
        "\n",
        "- `Exer/Smoke`: χ² ≈ 5.489, g ≈ 12.592, p ≈ 0.483\n",
        "- `W.Hnd/Fold`: χ² ≈ 1.581, g ≈ 5.992, p ≈ 0.454\n",
        "- `Sex/Smoke`: χ² ≈ 3.554, g ≈ 7.815, p ≈ 0.314\n",
        "- `Sex/W.Hnd`: χ² ≈ 0.236, g ≈ 3.842, p ≈ 0.627"
      ],
      "metadata": {
        "id": "0JrAljj350Yf"
      }
    },
    {
      "cell_type": "markdown",
      "source": [
        "Read the dataset."
      ],
      "metadata": {
        "id": "xLnXDNr2ULo_"
      }
    },
    {
      "cell_type": "code",
      "source": [
        ""
      ],
      "metadata": {
        "id": "PImy42Ev_nfl"
      },
      "execution_count": null,
      "outputs": []
    },
    {
      "cell_type": "markdown",
      "source": [
        "What are the different values for Exer and Smoke?  \n",
        "Change both variables to ordinal variables with a specific order."
      ],
      "metadata": {
        "id": "ClPiYvicUTfi"
      }
    },
    {
      "cell_type": "code",
      "source": [
        ""
      ],
      "metadata": {
        "id": "XUspvasv-rn6"
      },
      "execution_count": null,
      "outputs": []
    },
    {
      "cell_type": "markdown",
      "source": [
        "* Make a frequency table for the two variables. The (presumably) independent variable comes first.\n",
        "* Plot a graph visualizing the relationship between the two variables.\n",
        "* Looking at the chart, do you expect a rather high or rather low value for the  χ2  statistic? Why?\n",
        "* Run the  χ2  test to determine whether there is a relationship between the two variables. Calculate the  χ2  statistic, the critical limit  g  and the  p  value, each for significance level  α=0.05 .\n",
        "* Should we accept or reject the null hypothesis? What exactly does that mean for the relationship between the two variables? In other words, formulate an answer to the research question.\n",
        "* Calculate Cramér's V. Do you come to a similar conclusion as with the  χ2  test?\n",
        "\n",
        "The variables to be investigated:\n",
        "\n",
        "| Independent variabele          | Dependent variabele                        |\n",
        "|:------------------------------ |:-------------------------------------------|\n",
        "| `Exer` (practicing sports)     | `Smoke`                                    |\n",
        "| `Sex` (gender)                 | `Smoke`                                    |\n",
        "| `W.Hnd` (dominant hand)        | `Fold` (top hand when you cross your arms) |\n",
        "| `Sex`                          | `W.Hnd`                                    |\n",
        "\n",
        "Results of the main calculations (rounded up to 3 decimal places):\n",
        "\n",
        "- `Exer/Smoke`: χ² ≈ 5.489, g ≈ 12.592, p ≈ 0.483\n",
        "- `W.Hnd/Fold`: χ² ≈ 1.581, g ≈ 5.992, p ≈ 0.454\n",
        "- `Sex/Smoke`: χ² ≈ 3.554, g ≈ 7.815, p ≈ 0.314\n",
        "- `Sex/W.Hnd`: χ² ≈ 0.236, g ≈ 3.842, p ≈ 0.627"
      ],
      "metadata": {
        "id": "AHYMorUvUrpF"
      }
    },
    {
      "cell_type": "markdown",
      "source": [
        "Exer/Smoke: χ² ≈ 5.489, g ≈ 12.592, p ≈ 0.483"
      ],
      "metadata": {
        "id": "-ymGHckoe-KW"
      }
    },
    {
      "cell_type": "code",
      "source": [
        ""
      ],
      "metadata": {
        "id": "q9YgYP1c-XMM"
      },
      "execution_count": null,
      "outputs": []
    },
    {
      "cell_type": "code",
      "source": [
        ""
      ],
      "metadata": {
        "id": "HtyVSJPx4JMk"
      },
      "execution_count": null,
      "outputs": []
    },
    {
      "cell_type": "code",
      "source": [
        ""
      ],
      "metadata": {
        "id": "1ndNnGy46Acx"
      },
      "execution_count": null,
      "outputs": []
    },
    {
      "cell_type": "markdown",
      "source": [
        "W.Hnd/Fold: χ² ≈ 1.581, g ≈ 5.992, p ≈ 0.454"
      ],
      "metadata": {
        "id": "qXTX5yIAfDey"
      }
    },
    {
      "cell_type": "code",
      "source": [
        ""
      ],
      "metadata": {
        "id": "m8bhQxol-dw9"
      },
      "execution_count": null,
      "outputs": []
    },
    {
      "cell_type": "markdown",
      "source": [
        "Sex/Smoke: χ² ≈ 3.554, g ≈ 7.815, p ≈ 0.314"
      ],
      "metadata": {
        "id": "P_--fDpVfGB7"
      }
    },
    {
      "cell_type": "code",
      "source": [
        "\n"
      ],
      "metadata": {
        "id": "Y81QYdd4-d51"
      },
      "execution_count": null,
      "outputs": []
    },
    {
      "cell_type": "markdown",
      "source": [
        "Sex/W.Hnd: χ² ≈ 0.236, g ≈ 3.842, p ≈ 0.627"
      ],
      "metadata": {
        "id": "GBza24xKfPJ6"
      }
    },
    {
      "cell_type": "code",
      "source": [
        ""
      ],
      "metadata": {
        "id": "nx8e1Rxo-eBE"
      },
      "execution_count": null,
      "outputs": []
    },
    {
      "cell_type": "markdown",
      "source": [
        "## Labo 3 - Digimeter\n",
        "\n",
        "Every year, Imec (formerly iMinds) carries out a study on the use of digital technologies in Flanders, the Digimeter (Vanhaelewyn & De Marez, 2016). In this exercise we will check whether the sample of the Digimeter 2016 (n = 2164) is representative of the population in terms of the age categories of the participants.\n",
        "\n",
        "You can find the frequency tables in the following data files:\n",
        "\n",
        "- `data/leeftijden-digimeter.csv`: relative frequencies of the age of participants in the iMec Digimeter 2016 and the Flemish population (as reported in the Digimeter publication)\n",
        "- `data/leeftijden-bestat-vl.csv`: absolute frequencies for the different age categories of the Flemish population (Source: BelStat, <https://bestat.economie.fgov.be/bestat/> , C01.1: Population by place of residence (province), sex, position in the household (C), marital status and age (B)).  \n",
        "\n",
        "\n",
        "1. The table with age data for the Flemish population as a whole has more categories than the one used in the Digimeter. Make a summary so that you have the same categories as those of the Digimeter.\n",
        "2. In order to apply the goodness-of-fit test, we need the absolute frequencies of the observed values ​​in the sample. Calculate this.\n",
        "3. Also calculate the expected percentages ($\\pi_i$) for the population as a whole.\n",
        "4. Perform the goodness-of-fit test on the distribution of age categories in the Digimeter sample. In this respect, is the sample indeed representative of the Flemish population?\n",
        "\n",
        "Results of the main calculations (rounded up to 3 decimal places):\n",
        "\n",
        "- χ² ≈ 6.700 (df = 6),\n",
        "- g ≈ 12.592,\n",
        "- p ≈ 0.350"
      ],
      "metadata": {
        "id": "eur1Ec708lNw"
      }
    },
    {
      "cell_type": "markdown",
      "source": [
        "Read the dataset `data/leeftijden-digimeter.csv`  \n",
        "Make sure the Percentages are actually percentages.\n"
      ],
      "metadata": {
        "id": "iSHeFyc6cZQT"
      }
    },
    {
      "cell_type": "code",
      "source": [
        ""
      ],
      "metadata": {
        "id": "8yMICTgm_ood"
      },
      "execution_count": null,
      "outputs": []
    },
    {
      "cell_type": "markdown",
      "source": [
        "Read the dataset `leeftijden-bestat-vl.csv`"
      ],
      "metadata": {
        "id": "qGVss_Llc4am"
      }
    },
    {
      "cell_type": "code",
      "source": [
        ""
      ],
      "metadata": {
        "id": "q6iIdrNFDm7U"
      },
      "execution_count": null,
      "outputs": []
    },
    {
      "cell_type": "markdown",
      "source": [
        "1. The table with age data for the Flemish population as a whole has more categories than the one used in the Digimeter. Make a summary so that you have the same categories as those of the Digimeter.\n",
        "\n",
        "![image.png](data:image/png;base64,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)"
      ],
      "metadata": {
        "id": "q65MAS3idH7g"
      }
    },
    {
      "cell_type": "code",
      "source": [
        "\n"
      ],
      "metadata": {
        "id": "wy1vq1xiFIfs"
      },
      "execution_count": null,
      "outputs": []
    },
    {
      "cell_type": "markdown",
      "source": [
        "2. In order to apply the goodness-of-fit test, we need the absolute frequencies of the observed values ​​in the sample. Calculate these.  \n",
        "Answer = [142.824 307.288 324.6   352.732 374.372 157.972 502.048]"
      ],
      "metadata": {
        "id": "YJqOlCoQnc6W"
      }
    },
    {
      "cell_type": "code",
      "source": [
        ""
      ],
      "metadata": {
        "id": "qPcgpC_mFdRz"
      },
      "execution_count": null,
      "outputs": []
    },
    {
      "cell_type": "markdown",
      "source": [
        "3. Also calculate the expected percentages ($\\pi_i$) for the population as a whole.  \n",
        "Answer = [0.06915147 0.1438298  0.15293412 0.17959016 0.16540295 0.07153788\n",
        " 0.21755361]"
      ],
      "metadata": {
        "id": "sRfq-wXvnhyM"
      }
    },
    {
      "cell_type": "code",
      "source": [
        ""
      ],
      "metadata": {
        "id": "SBuiaY1QI6Lz"
      },
      "execution_count": null,
      "outputs": []
    },
    {
      "cell_type": "markdown",
      "source": [
        "4. Perform the goodness-of-fit test on the distribution of age categories in the Digimeter sample. In this respect, is the sample indeed representative of the Flemish population?  \n",
        "\n",
        "Results of the main calculations (rounded up to 3 decimal places):\n",
        "\n",
        "χ² ≈ 6.700 (df = 6),\n",
        "g ≈ 12.592,\n",
        "p ≈ 0.350"
      ],
      "metadata": {
        "id": "-GKZZQXDd7pN"
      }
    },
    {
      "cell_type": "code",
      "source": [
        ""
      ],
      "metadata": {
        "id": "wfNU9VTyLYAy"
      },
      "execution_count": null,
      "outputs": []
    },
    {
      "cell_type": "code",
      "source": [
        ""
      ],
      "metadata": {
        "id": "mM3npU4_MDFK"
      },
      "execution_count": null,
      "outputs": []
    }
  ],
  "metadata": {
    "interpreter": {
      "hash": "e7370f93d1d0cde622a1f8e1c04877d8463912d04d973331ad4851f04de6915a"
    },
    "kernelspec": {
      "display_name": "Python 3.10.0 64-bit",
      "language": "python",
      "name": "python3"
    },
    "language_info": {
      "codemirror_mode": {
        "name": "ipython",
        "version": 3
      },
      "file_extension": ".py",
      "mimetype": "text/x-python",
      "name": "python",
      "nbconvert_exporter": "python",
      "pygments_lexer": "ipython3",
      "version": "3.10.2"
    },
    "orig_nbformat": 4,
    "colab": {
      "name": "labs-chi-squared.ipynb",
      "provenance": [],
      "collapsed_sections": []
    }
  },
  "nbformat": 4,
  "nbformat_minor": 0
}