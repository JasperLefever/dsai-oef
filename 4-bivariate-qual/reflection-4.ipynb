{
 "cells": [
  {
   "attachments": {},
   "cell_type": "markdown",
   "metadata": {},
   "source": [
    "# Chapter 4 - reflection exercises\n",
    "\n",
    "## Exercise 1\n",
    "\n",
    "Look for an example in the media of scientific research where the press claims that there is a causal connection between two phenomena. Try to find the original scientific publication. Is the claim made in the article correct? Do the researchers also claim that there is a causal connection, or do they express themselves more cautiously?"
   ]
  },
  {
   "attachments": {},
   "cell_type": "markdown",
   "metadata": {},
   "source": [
    "## Exercise 2\n",
    "\n",
    "Use the technique of Retrieval Practice to reproduce the overview table of visualisation and analysis techniques for two variables."
   ]
  }
 ],
 "metadata": {
  "language_info": {
   "name": "python"
  },
  "orig_nbformat": 4
 },
 "nbformat": 4,
 "nbformat_minor": 2
}
