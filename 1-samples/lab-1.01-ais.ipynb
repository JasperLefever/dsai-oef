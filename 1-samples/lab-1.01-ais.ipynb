{
 "cells": [
  {
   "cell_type": "markdown",
   "metadata": {},
   "source": [
    "# Lab 1.01 - Australian Athletes (ais)\n",
    "\n",
    "In the Python cell below this one, paste all the imports you need for data analysis from the code examples (Numpy, Pandas, etc.)."
   ]
  },
  {
   "cell_type": "code",
   "execution_count": null,
   "metadata": {},
   "outputs": [],
   "source": []
  },
  {
   "cell_type": "markdown",
   "metadata": {},
   "source": [
    "Declare a variable `ais` and use it to import the dataset from the CSV-file `ais.csv` in [the directory `data/`](https://github.com/HoGentTIN/dsai-en-labs/tree/main/data) of the [Github repository](https://github.com/HoGentTIN/dsai-en-labs/) for the lab assignments. You can import a dataset with a URL pointing to the raw contents of the CSV-file in the Github repository (see the code example!).\n",
    "\n",
    "This dataset contains 202 observations of Australian athletes with a variety of blood values. You can find the codebook (i.e., the explanation of what each variable/column in the dataset means) in [data/ais.md](https://github.com/HoGentTIN/dsai-en-labs/blob/main/data/ais.md). Show the first few observations of this sample."
   ]
  },
  {
   "cell_type": "code",
   "execution_count": null,
   "metadata": {},
   "outputs": [],
   "source": []
  },
  {
   "cell_type": "markdown",
   "metadata": {},
   "source": [
    "Get general information about this dataset:\n",
    "\n",
    "- How many rows and columns does the dataset have?\n",
    "- Show general information about each variable, specifically the number of empty fields and the type of each variable (e.g., int64, float64, object)\n",
    "- How many columns of each type are there?\n",
    "- What is the measurement level (nominal, ordinal, interval, ratio) of each variable?"
   ]
  },
  {
   "cell_type": "code",
   "execution_count": null,
   "metadata": {},
   "outputs": [],
   "source": []
  },
  {
   "cell_type": "markdown",
   "metadata": {},
   "source": [
    "The column \"id\" is not an actual variable, but an index. Mark it as such."
   ]
  },
  {
   "cell_type": "code",
   "execution_count": null,
   "metadata": {},
   "outputs": [],
   "source": []
  },
  {
   "cell_type": "markdown",
   "metadata": {},
   "source": [
    "The variables that are now considered \"object\" are qualitative variables. Change the type of each of these variables to \"category\". For ordinal variables, also define a type and impose an order. Verify that the conversion was successful by requesting info about the types again."
   ]
  },
  {
   "cell_type": "code",
   "execution_count": null,
   "metadata": {},
   "outputs": [],
   "source": []
  },
  {
   "cell_type": "markdown",
   "metadata": {},
   "source": [
    "Describe the columns `ferr`, `bmi`, `sex` and `sport` and the unique values in each of these columns. Do you recognize the characteristics of qualitative and quantitative variables in the result?"
   ]
  },
  {
   "cell_type": "code",
   "execution_count": null,
   "metadata": {},
   "outputs": [],
   "source": []
  },
  {
   "cell_type": "markdown",
   "metadata": {},
   "source": [
    "Select following elements from the dataset:\n",
    "\n",
    "- the second row (ids = 2)\n",
    "- rows 4 to 6 (ids = 5 to 7)\n",
    "- Columns 6 to 8 (`ferr`, `bmi`, `ssf`)\n",
    "- the variable `pcBfat` (by name!). There are multiple ways to retrieve this!\n",
    "- all observations for the sport \"Netball\"\n",
    "- just the variable `wt` of the observations for \"Netball\"\n",
    "- which sports are played by athletes with a BMI higher than 26? Also, provide a list of the unique values and a frequency table of how often each sport occurs."
   ]
  },
  {
   "cell_type": "code",
   "execution_count": null,
   "metadata": {},
   "outputs": [],
   "source": []
  }
 ],
 "metadata": {
  "language_info": {
   "name": "python"
  },
  "orig_nbformat": 4
 },
 "nbformat": 4,
 "nbformat_minor": 2
}
