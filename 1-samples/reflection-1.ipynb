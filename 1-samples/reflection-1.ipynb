{
 "cells": [
  {
   "attachments": {},
   "cell_type": "markdown",
   "metadata": {},
   "source": [
    "# Chapter 1 - Reflection exercises\n",
    "\n",
    "## Basic concepts in research\n",
    "\n",
    "### Exercise 1 - Retrieval practice: measurement levels\n",
    "\n",
    "Measurement levels are an important concept in descriptive statistics because most visualization and analysis techniques depend on this. It is therefore important to know and understand the different measurement levels.\n",
    "\n",
    "Retrieval practice is a study technique that has been scientifically proven to be effective and which leads to improved learning outcomes (Roediger & Karpicke, 2006).\n",
    "\n",
    "1. Take a blank sheet of paper and try to reproduce an overview of all measurement levels without consulting the syllabus or other sources. Describe the specific properties for each measurement level and give some examples.\n",
    "\n",
    "2. Take enough time for this (e.g. at least 5 to 10 minutes). Do not immediately look into the syllabus, but try to remember as much as possible.\n",
    "\n",
    "    When you are done with this, indicate everything that you have noted so far with an (e.g. green) marker.\n",
    "\n",
    "    If possible, consult with a fellow student and try to complete the overview that you have each made. Mark all additions with a marker in a different color (e.g. yellow).\n",
    "\n",
    "3. Finally, verify your notes using the syllabus and correct/complete incorrect or missing information if necessary. Indicate this in a third color (e.g. orange or red).\n",
    "\n",
    "Thanks to the highlighted colors in your notes, you now have an overview of what you already know and what you need to study. Repeat this exercise a number of times during the course of the semester.  Never start by looking at the result of a previous attempt, but immediately try to retrieve as much information as possible from your memory on a blank sheet. Compare the results afterwards. You should notice that over time, you will mark more and more in green and you will use less red or even none at all."
   ]
  },
  {
   "attachments": {},
   "cell_type": "markdown",
   "metadata": {},
   "source": [
    "## Sampling methods and sampling errors\n",
    "\n",
    "### Exercise 2 - sampling methods\n",
    "\n",
    "A researcher wants to investigate as accurately as possible the consumption habits of residents aged 18 years and up in a certain municipality with 3 residential areas. \n",
    "She distinguishes 4 age groups so she eventually has a total of 12 subgroups. From the municipality, she requests the percentual composition of the population in the city, and based on the numbers she calculated the number of respondents required for each age group. We call this type of sample a quota sample.\n",
    "\n",
    "- Is this a random sample? Why (not)?\n",
    "- Is this sample representative of the population?\n",
    "- Which types of sampling errors can occur?\n",
    "- What are the advantages and disadvantages?"
   ]
  },
  {
   "attachments": {},
   "cell_type": "markdown",
   "metadata": {},
   "source": [
    "### Exercise 3 - sampling methods\n",
    "\n",
    "A research agency wants to investigate the purchasing behavior of washing products. They interrogate a number of women between 25 and 55 because they assume that these are representative of most customers.\n",
    "\n",
    "- Is this a random sample? Why (not)?\n",
    "- Is this sample representative of the population?\n",
    "- Which sampling error(s) was (were) made?\n",
    "- What improvements would you suggest for the way this sample is constructed?"
   ]
  },
  {
   "attachments": {},
   "cell_type": "markdown",
   "metadata": {},
   "source": [
    "\n",
    "### Exercise 4 - sampling methods\n",
    "\n",
    "The trade union wants to investigate the working conditions of the employees of an IT company. This company has a total of 3200 employees spread over 12 branch offices.\n",
    "Because the total number of employees is quite large, 40 employees are selected at random from each branch office. The size of the sample is, therefore, n = 480.\n",
    "\n",
    "- Is this a random sample? Why (not)?\n",
    "- Is the sample representative of the population? If not, when could it be representative?\n",
    "- What kind of error(s) is/are being made here?\n",
    "- What improvements would you suggest for the way this sample is constructed?"
   ]
  },
  {
   "attachments": {},
   "cell_type": "markdown",
   "metadata": {},
   "source": [
    "### Exercise 5 - sampling methods\n",
    "\n",
    "We want to conduct a survey into the quality of our education at Hogeschool Gent. For this purpose, the students present in a certain lecture will be questioned.\n",
    "\n",
    "- Is this a random sample? Why (not)?\n",
    "- Is the sample representative of the population?\n",
    "- What kind of error(s) is/are being made here?\n",
    "- Suppose the lecturer who teaches the subject is present during the questioning. What influence can this have and what mistake is made in this case?\n",
    "- Suppose the questioning is not held during a lecture but after an exam. What mistake can be made then?\n",
    "- What improvements would you suggest for the way this sample is constructed?"
   ]
  },
  {
   "attachments": {},
   "cell_type": "markdown",
   "metadata": {},
   "source": [
    "### Exercise 6 - Retrieval practice: sampling errors\n",
    "\n",
    "Use the procedure for retrieval practice from Exercise 1 to study the types of sampling errors. List the different sampling errors, describe each and give an example."
   ]
  }
 ],
 "metadata": {
  "kernelspec": {
   "display_name": "Python 3",
   "language": "python",
   "name": "python3"
  },
  "language_info": {
   "name": "python",
   "version": "3.11.1"
  },
  "orig_nbformat": 4,
  "vscode": {
   "interpreter": {
    "hash": "e7370f93d1d0cde622a1f8e1c04877d8463912d04d973331ad4851f04de6915a"
   }
  }
 },
 "nbformat": 4,
 "nbformat_minor": 2
}
