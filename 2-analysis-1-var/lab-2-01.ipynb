{
 "cells": [
  {
   "cell_type": "markdown",
   "metadata": {},
   "source": [
    "# Lab 2.01 - Australian Athletes (ais)\n",
    "\n",
    "Import all necessary Python libraries and load the AIS dataset from lab exercise 1.01. Also include the code for setting the index and conversion to categorical variables!"
   ]
  },
  {
   "cell_type": "code",
   "execution_count": null,
   "metadata": {},
   "outputs": [],
   "source": []
  },
  {
   "cell_type": "markdown",
   "metadata": {},
   "source": [
    "Use an appropriate chart type to visualise the following variables. Are several chart types suitable? Make one of each! Note how some graphs nevertheless give a better insight into the data than other types of graphs.\n",
    "\n",
    "- `sex`\n",
    "- `sport`\n",
    "- `ht` (show this also divided by `sex` and by `sport`.)"
   ]
  },
  {
   "cell_type": "code",
   "execution_count": null,
   "metadata": {},
   "outputs": [],
   "source": []
  },
  {
   "cell_type": "markdown",
   "metadata": {},
   "source": [
    "Select the following subsets from the dataset and calculate for each the appropriate measures of central tendency (and, when possible, dispersion) of the variables `ht` and `sex`:\n",
    "\n",
    "1. the rowers\n",
    "2. the rowers, netball and tennis players together\n",
    "3. the female basketball players and rowers together"
   ]
  },
  {
   "cell_type": "code",
   "execution_count": null,
   "metadata": {},
   "outputs": [],
   "source": []
  },
  {
   "cell_type": "markdown",
   "metadata": {},
   "source": [
    "## Check your answers\n",
    "\n",
    "As a check, here are the results of the last question. First the frequencies and mode of the variable `sex`:\n",
    "\n",
    "|           | Selection 1 | Selection 2 | Selection 3 |\n",
    "| :-------- | :---------- | :---------- | :---------- |\n",
    "| **f**     | 22          | 52          | 35          |\n",
    "| **m**     | 15          | 19          | 0           |\n",
    "| **mode**  | f           | f           | f           |\n",
    "\n",
    "Then the relevant measures for central tendency and dispersion for `ht` (max. 3 decimal places):\n",
    "\n",
    "| Statistic  | Selection 1 | Selection 2 | Selection 3 |\n",
    "| :--------- | :---------- | :---------- | :---------- |\n",
    "| mean       | 182.376     | 179.066     | 180.126     |\n",
    "| stdev      | 7.798       | 7.936       | 7.144       |\n",
    "| min        | 156         | 156         | 156         |\n",
    "| Q1         | 179.3       | 174.25      | 177.4       |\n",
    "| median     | 181.8       | 179.5       | 179.7       |\n",
    "| Q3         | 186.3       | 183.4       | 184.65      |\n",
    "| max        | 198         | 198         | 195.9       |\n",
    "| IQR        | 7           | 9.15        | 7.250       |"
   ]
  }
 ],
 "metadata": {
  "language_info": {
   "name": "python"
  },
  "orig_nbformat": 4
 },
 "nbformat": 4,
 "nbformat_minor": 2
}
