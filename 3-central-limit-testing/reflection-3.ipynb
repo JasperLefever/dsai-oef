{
 "cells": [
  {
   "attachments": {},
   "cell_type": "markdown",
   "metadata": {},
   "source": [
    "# Chapter 3 - Reflection exercises\n",
    "\n",
    "## Exercises on Probability\n",
    "\n",
    "### Exercise 1\n",
    "\n",
    "Consider the two games of chance mentioned in the slides:\n",
    "\n",
    "- Bet on: at least one six when throwing a fair die 4 consecutive times.\n",
    "- Bet on: at least one \"double six\" when throwing two fair dice 24 times.\n",
    "\n",
    "Question: calculate the exact probability of winning each of these two games. Compare your answer with the long-term frequency of winning shown in the slides."
   ]
  },
  {
   "attachments": {},
   "cell_type": "markdown",
   "metadata": {},
   "source": [
    "### Exercise 2 - Reliability of backups\n",
    "\n",
    "A hard drive has a 1% probability to crash. Therefore, we take two backups, each having a 2% probability to crash. The three components work independently of each other. Data is lost only when all three components crash.\n",
    "\n",
    "Question: what is the probability that the data is not lost?"
   ]
  },
  {
   "attachments": {},
   "cell_type": "markdown",
   "metadata": {},
   "source": [
    "### Exercise 3 - Expectation of $X − a$\n",
    "\n",
    "Consider the probability distribution of the random variable $X$ giving the sum of the eyes when throwing two dice.\n",
    "\n",
    "- This probability distribution is symmetric around 7. Verify (by using the definition of expectation) that the expectation of $X$ is also 7.\n",
    "\n",
    "- Suppose that you have to pay €8 to play a game where your earnings are the sum of the eyes when throwing two dice. Denote your profit (or loss) by $Y$. What is the relationship between $Y$ and $X$? Give the expectation of $Y$. What is the relationship with the expectation of $X$?\n",
    "\n",
    "- Can you see a general relationship between the expectation of $X − a$ and that of $X$, where $a$ is a real number?"
   ]
  },
  {
   "attachments": {},
   "cell_type": "markdown",
   "metadata": {},
   "source": [
    "### Exercise 4 - Variance of $X/a$\n",
    "\n",
    "Consider the probability distribution of the random variable $X$ giving the sum of the eyes when throwing two dice.\n",
    "\n",
    "- Calculate the variance of $X$.\n",
    "\n",
    "- Suppose the profit you make is only half of the sum of the eyes when throwing two dice. Denote your profit (or loss) by $Y$. What is the relationship between $Y$ and $X$? Give the variance of $Y$. What is the relationship with the variance of $X$?\n",
    "\n",
    "- Can you see a general relationship between the variance of $X/a$ and that of $X$, where $a$ is a real non-zero number?"
   ]
  },
  {
   "attachments": {},
   "cell_type": "markdown",
   "metadata": {},
   "source": [
    "### Exercise 5 - Expectation and variance of $(X−\\mu)/\\sigma$)\n",
    "\n",
    "Using the information from the two previous exercises, determine the expectation and variance for a random variable $Z$ given by\n",
    "\n",
    "$Z = \\frac{X-\\mu_X}{\\sigma_X}$"
   ]
  },
  {
   "attachments": {},
   "cell_type": "markdown",
   "metadata": {},
   "source": [
    "## Central limit theorem\n",
    "\n",
    "### Exercise 6\n",
    "\n",
    "When students write in their bachelor thesis proposal that they want to conduct a survey, we usually try to dissuade them from doing so. With what you have learned about sampling and the central limit theorem, can you think of some reasons why we do this?"
   ]
  },
  {
   "attachments": {},
   "cell_type": "markdown",
   "metadata": {},
   "source": [
    "## Confidence intervals\n",
    "\n",
    "### Exercise 7\n",
    "\n",
    "1. How do you calculate the upper and lower limits of a 95% and 99% confidence interval?\n",
    "2. A 99% confidence interval is [wider/narrower/the same width] as a 95% confidence interval. Why?\n",
    "3. What would a 100% confidence interval look like?"
   ]
  }
 ],
 "metadata": {
  "kernelspec": {
   "display_name": "Python 3",
   "language": "python",
   "name": "python3"
  },
  "language_info": {
   "name": "python",
   "version": "3.11.1"
  },
  "orig_nbformat": 4,
  "vscode": {
   "interpreter": {
    "hash": "e7370f93d1d0cde622a1f8e1c04877d8463912d04d973331ad4851f04de6915a"
   }
  }
 },
 "nbformat": 4,
 "nbformat_minor": 2
}
